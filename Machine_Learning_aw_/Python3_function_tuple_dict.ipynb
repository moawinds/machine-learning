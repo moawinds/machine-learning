{
  "cells": [
    {
      "cell_type": "markdown",
      "metadata": {
        "id": "view-in-github",
        "colab_type": "text"
      },
      "source": [
        "<a href=\"https://colab.research.google.com/github/Valentino-00/Tugas-Machine_Learning/blob/master/Python3_function_tuple_dict.ipynb\" target=\"_parent\"><img src=\"https://colab.research.google.com/assets/colab-badge.svg\" alt=\"Open In Colab\"/></a>"
      ]
    },
    {
      "cell_type": "markdown",
      "metadata": {
        "id": "jcsY0LHcpY2g"
      },
      "source": [
        "# Python Basic 3\n",
        "Functions, tuples, dictionaries, and data processing\n",
        "\n",
        "Referensi Tambahan:\n",
        "- https://docs.python.org/3.8/\n",
        "- https://docs.python.org/id/3.8/tutorial/\n",
        "\n",
        "\n",
        "## Materi\n",
        "\n",
        "- defining and using functions;\n",
        "- different ways of passing arguments;\n",
        "- name scopes;\n",
        "- tuples and dictionaries;\n",
        "- data processing."
      ]
    },
    {
      "cell_type": "markdown",
      "metadata": {
        "id": "KfhPZoVEpY2l"
      },
      "source": [
        "\n",
        "\n"
      ]
    },
    {
      "cell_type": "markdown",
      "metadata": {
        "id": "QT2WXolRpY2n"
      },
      "source": [
        "# Function\n",
        "![function.png](attachment:function.png)\n",
        "- when you invoke a function, Python remembers the place where it happened and jumps into the invoked function;\n",
        "- the body of the function is then executed;\n",
        "- reaching the end of the function forces Python to return to the place directly after the point of invocation."
      ]
    },
    {
      "cell_type": "code",
      "execution_count": 58,
      "metadata": {
        "colab": {
          "base_uri": "https://localhost:8080/"
        },
        "id": "68-tgUzmpY2o",
        "outputId": "eeb74696-1069-4e7c-e402-3e1572bf19df"
      },
      "outputs": [
        {
          "output_type": "stream",
          "name": "stdout",
          "text": [
            "Angka 1 :\n",
            "5\n",
            "5\n",
            "Angka 2 :\n",
            "9\n",
            "9\n",
            "Angka 3 :\n",
            "1\n",
            "1\n"
          ]
        }
      ],
      "source": [
        "# Motivasi function adalah perulangan kode\n",
        "\n",
        "print(\"Angka 1 :\")\n",
        "a = int(input())\n",
        "print(a)\n",
        "\n",
        "print(\"Angka 2 :\")\n",
        "b = int(input())\n",
        "print(b)\n",
        "\n",
        "print(\"Angka 3 :\")\n",
        "c = int(input())\n",
        "print(c)"
      ]
    },
    {
      "cell_type": "markdown",
      "metadata": {
        "id": "EU_EY0j9pY2s"
      },
      "source": [
        "Sintaks Function:\n",
        "\n",
        "```python\n",
        "def functionName():\n",
        "    functionBody\n",
        "```"
      ]
    },
    {
      "cell_type": "code",
      "execution_count": 59,
      "metadata": {
        "colab": {
          "base_uri": "https://localhost:8080/"
        },
        "id": "UGcdrzEbpY2s",
        "outputId": "39d71839-655e-4ff4-b9c1-e8382ce00116"
      },
      "outputs": [
        {
          "output_type": "stream",
          "name": "stdout",
          "text": [
            "Start disini... \n",
            "Input Angka :\n",
            "2\n",
            "2\n",
            "Input Angka :\n",
            "5\n",
            "5\n",
            "Input Angka :\n",
            "7\n",
            "7\n",
            "Stop disini... \n"
          ]
        }
      ],
      "source": [
        "def inputAngka():\n",
        "    print(\"Input Angka :\")\n",
        "    a = int(input())\n",
        "    print(a)\n",
        "\n",
        "print(\"Start disini... \")\n",
        "\n",
        "inputAngka()\n",
        "inputAngka()\n",
        "inputAngka()\n",
        "\n",
        "print(\"Stop disini... \")"
      ]
    },
    {
      "cell_type": "markdown",
      "metadata": {
        "id": "pHgL35NTpY2t"
      },
      "source": [
        "### Parametrized functions"
      ]
    },
    {
      "cell_type": "code",
      "execution_count": 60,
      "metadata": {
        "colab": {
          "base_uri": "https://localhost:8080/"
        },
        "id": "S4Q-d71ZpY2u",
        "outputId": "eeb54be7-4581-4608-ff17-c1ae83fd7d37"
      },
      "outputs": [
        {
          "output_type": "stream",
          "name": "stdout",
          "text": [
            "Pesan  hallo\n",
            "Pesan  namanya siapa ?\n"
          ]
        }
      ],
      "source": [
        "def pesan(m):\n",
        "    print(\"Pesan \",m.lower())\n",
        "\n",
        "pesan(\"Hallo\")\n",
        "pesan(\"Namanya siapa ?\")"
      ]
    },
    {
      "cell_type": "code",
      "execution_count": 61,
      "metadata": {
        "colab": {
          "base_uri": "https://localhost:8080/"
        },
        "id": "bfpEnZp8pY2w",
        "outputId": "481a69fd-e60b-432e-cd6c-a2addbe61325"
      },
      "outputs": [
        {
          "output_type": "stream",
          "name": "stdout",
          "text": [
            "Nama :  Abu No Hp :  123\n",
            "Nama :  Abu No Hp :  0817244\n"
          ]
        }
      ],
      "source": [
        "def pesan(nama, nohp):\n",
        "    print(\"Nama : \",nama, \"No Hp : \",nohp)\n",
        "\n",
        "pesan(\"Abu\", 123)\n",
        "pesan(\"Abu\", \"0817244\")"
      ]
    },
    {
      "cell_type": "code",
      "execution_count": 62,
      "metadata": {
        "colab": {
          "base_uri": "https://localhost:8080/"
        },
        "id": "qG7R8kFPpY2w",
        "outputId": "7ca03b12-2914-4cbc-8845-a43615d1d9ed"
      },
      "outputs": [
        {
          "output_type": "stream",
          "name": "stdout",
          "text": [
            "Abu Salam 30.5\n"
          ]
        }
      ],
      "source": [
        "def tambahUsia(nama, umur):\n",
        "    umur = umur + 0.5\n",
        "    print(nama, umur)\n",
        "\n",
        "tambahUsia(\"Abu Salam\", 30)"
      ]
    },
    {
      "cell_type": "markdown",
      "metadata": {
        "id": "5MwsdwirpY2x"
      },
      "source": [
        "### Posisi Parameter\n",
        "\n"
      ]
    },
    {
      "cell_type": "code",
      "execution_count": 63,
      "metadata": {
        "colab": {
          "base_uri": "https://localhost:8080/"
        },
        "id": "TOWaDFJjpY2y",
        "outputId": "00ccccde-3d83-4064-85df-755fbb2c372d"
      },
      "outputs": [
        {
          "output_type": "stream",
          "name": "stdout",
          "text": [
            "Hallo namanya adalah :  Abu Salam\n",
            "Hallo namanya adalah :  Dhita Aulia\n"
          ]
        }
      ],
      "source": [
        "def perkenalan(namaDepan, namaBelakang):\n",
        "    print(\"Hallo namanya adalah : \", namaDepan, namaBelakang)\n",
        "\n",
        "perkenalan(\"Abu\",\"Salam\")\n",
        "perkenalan(\"Dhita\",\"Aulia\")"
      ]
    },
    {
      "cell_type": "code",
      "execution_count": 64,
      "metadata": {
        "colab": {
          "base_uri": "https://localhost:8080/"
        },
        "id": "riM6hPwkpY2y",
        "outputId": "b396cbbd-d754-45d7-dbb6-23cc81dbf61c"
      },
      "outputs": [
        {
          "output_type": "stream",
          "name": "stdout",
          "text": [
            "Hallo namanya adalah :  Abu2 salam2\n",
            "Hallo namanya adalah :  dhita2 aulia2\n"
          ]
        }
      ],
      "source": [
        "perkenalan(namaDepan = \"Abu2\", namaBelakang = \"salam2\")\n",
        "perkenalan(namaBelakang = \"aulia2\", namaDepan = \"dhita2\")"
      ]
    },
    {
      "cell_type": "code",
      "execution_count": 65,
      "metadata": {
        "colab": {
          "base_uri": "https://localhost:8080/"
        },
        "id": "FvZxTbSXpY2z",
        "outputId": "548f261a-bce4-49f6-9582-96d8fa377cef"
      },
      "outputs": [
        {
          "output_type": "stream",
          "name": "stdout",
          "text": [
            "5 + 5 + 4 = 14\n"
          ]
        }
      ],
      "source": [
        "def jumlah(a, b, c):\n",
        "    print(a, \"+\", b, \"+\", c, \"=\", a + b + c)\n",
        "\n",
        "jumlah(5,5,4)"
      ]
    },
    {
      "cell_type": "markdown",
      "metadata": {
        "id": "GR9vItizpY20"
      },
      "source": [
        "## Default parameter"
      ]
    },
    {
      "cell_type": "code",
      "execution_count": 66,
      "metadata": {
        "colab": {
          "base_uri": "https://localhost:8080/"
        },
        "id": "miQAQwVKpY20",
        "outputId": "aea255bf-05a2-4043-ceed-cf295f4bf704"
      },
      "outputs": [
        {
          "output_type": "stream",
          "name": "stdout",
          "text": [
            "Hello, my name is Abu Smith\n",
            "Hello, my name is Abu Salam\n",
            "Hello, my name is Abu Salam\n"
          ]
        }
      ],
      "source": [
        "def introduction(firstName=\"John\",lastName=\"Smith\"):\n",
        "    print(\"Hello, my name is\", firstName, lastName)\n",
        "\n",
        "#Call the Function here\n",
        "introduction(firstName=\"Abu\")\n",
        "introduction(firstName=\"Abu\", lastName=\"Salam\")\n",
        "introduction(\"Abu\", lastName=\"Salam\")"
      ]
    },
    {
      "cell_type": "code",
      "execution_count": 67,
      "metadata": {
        "colab": {
          "base_uri": "https://localhost:8080/"
        },
        "id": "1AT78X_GpY21",
        "outputId": "569be289-d9c6-4e74-f91e-0ca2364095e0"
      },
      "outputs": [
        {
          "output_type": "stream",
          "name": "stdout",
          "text": [
            "Hello, my name is Abu alex Salam\n"
          ]
        }
      ],
      "source": [
        "def introductionLengkap(firstName, lastName, middleName=\"Guntur\"):\n",
        "    print(\"Hello, my name is\", firstName, middleName, lastName)\n",
        "\n",
        "#Call the Function here\n",
        "introductionLengkap(firstName=\"Abu\", lastName=\"Salam\", middleName=\"alex\")"
      ]
    },
    {
      "cell_type": "markdown",
      "metadata": {
        "id": "GMmwN2mDpY22"
      },
      "source": [
        "## Function dengan Return"
      ]
    },
    {
      "cell_type": "code",
      "execution_count": 68,
      "metadata": {
        "colab": {
          "base_uri": "https://localhost:8080/"
        },
        "id": "emeqMCSfpY22",
        "outputId": "1b4bbb37-add8-469d-cf26-6cc82f8bbe82"
      },
      "outputs": [
        {
          "output_type": "stream",
          "name": "stdout",
          "text": [
            "113.09733552923255\n",
            "25.0\n"
          ]
        }
      ],
      "source": [
        "def hitungLuasLingkaran(r):\n",
        "    import math\n",
        "    pi = math.pi\n",
        "    luas = pi * r * r\n",
        "    return luas\n",
        "\n",
        "# buat sebuah fungsi untuk menghitung luas segitiga\n",
        "def hitungLuasSegitiga(a,t):\n",
        "    luas = 0.5 * a * t\n",
        "    return luas\n",
        "\n",
        "\n",
        "x = hitungLuasLingkaran(6)\n",
        "y = hitungLuasSegitiga(5,10)\n",
        "\n",
        "print(x)\n",
        "print(y)"
      ]
    },
    {
      "cell_type": "code",
      "execution_count": 69,
      "metadata": {
        "colab": {
          "base_uri": "https://localhost:8080/"
        },
        "id": "0wgA3NkmpY22",
        "outputId": "f0531cef-2de1-4147-8e36-5b34635aea04"
      },
      "outputs": [
        {
          "output_type": "stream",
          "name": "stdout",
          "text": [
            "This Lesson is interesting!\n",
            "'Boredom Mode' ON.\n",
            "123\n",
            "test\n"
          ]
        }
      ],
      "source": [
        "def boringFunction():\n",
        "    print(\"'Boredom Mode' ON.\")\n",
        "    return 123\n",
        "\n",
        "print(\"This Lesson is interesting!\")\n",
        "x = boringFunction()\n",
        "print(x)\n",
        "print(\"test\")"
      ]
    },
    {
      "cell_type": "code",
      "execution_count": 70,
      "metadata": {
        "colab": {
          "base_uri": "https://localhost:8080/"
        },
        "id": "xAN4L79gpY22",
        "outputId": "db6bba18-a938-45e9-f504-5ae2bf4d9bb4"
      },
      "outputs": [
        {
          "output_type": "stream",
          "name": "stdout",
          "text": [
            "7\n"
          ]
        }
      ],
      "source": [
        "def jumlah(a,b):\n",
        "    c = a + b\n",
        "    return c\n",
        "\n",
        "a = jumlah(3,4)\n",
        "print(a)"
      ]
    },
    {
      "cell_type": "code",
      "execution_count": 71,
      "metadata": {
        "colab": {
          "base_uri": "https://localhost:8080/"
        },
        "id": "Mb5R3VOEpY23",
        "outputId": "a8b4a3ad-687e-4c6f-f8c6-4b87eaa1e570"
      },
      "outputs": [
        {
          "output_type": "stream",
          "name": "stdout",
          "text": [
            "True\n",
            "None\n"
          ]
        }
      ],
      "source": [
        "def strangeFunction(n):\n",
        "    if(n % 2 == 0):\n",
        "        return True\n",
        "\n",
        "#Call the Function here\n",
        "\n",
        "print(strangeFunction(4))\n",
        "print(strangeFunction(3))"
      ]
    },
    {
      "cell_type": "code",
      "execution_count": 72,
      "metadata": {
        "colab": {
          "base_uri": "https://localhost:8080/"
        },
        "id": "L8rwam71pY23",
        "outputId": "89f2eea4-31ab-4a4a-e1c0-5b281663d6eb"
      },
      "outputs": [
        {
          "output_type": "stream",
          "name": "stdout",
          "text": [
            "10\n"
          ]
        }
      ],
      "source": [
        "def sumOfList(lst):\n",
        "    sum = 0\n",
        "\n",
        "    for elem in lst:\n",
        "        sum += elem\n",
        "\n",
        "    return sum\n",
        "\n",
        "#Call the Function here\n",
        "x = sumOfList([2,2,2,2,2])\n",
        "print(x)"
      ]
    },
    {
      "cell_type": "code",
      "execution_count": 73,
      "metadata": {
        "colab": {
          "base_uri": "https://localhost:8080/"
        },
        "id": "acEpf3japY24",
        "outputId": "257e8464-5544-4bae-d68d-a92f4c8c0f2a"
      },
      "outputs": [
        {
          "output_type": "stream",
          "name": "stdout",
          "text": [
            "Insert 0\n",
            "[0]\n",
            "Insert 1\n",
            "[1, 0]\n",
            "Insert 2\n",
            "[2, 1, 0]\n",
            "Insert 3\n",
            "[3, 2, 1, 0]\n",
            "Insert 4\n",
            "[4, 3, 2, 1, 0]\n",
            "Insert 5\n",
            "[5, 4, 3, 2, 1, 0]\n",
            "Insert 6\n",
            "[6, 5, 4, 3, 2, 1, 0]\n",
            "Insert 7\n",
            "[7, 6, 5, 4, 3, 2, 1, 0]\n",
            "Insert 8\n",
            "[8, 7, 6, 5, 4, 3, 2, 1, 0]\n",
            "Insert 9\n",
            "[9, 8, 7, 6, 5, 4, 3, 2, 1, 0]\n",
            "Hasil :  [9, 8, 7, 6, 5, 4, 3, 2, 1, 0]\n"
          ]
        }
      ],
      "source": [
        "def strangeListFunction(n):\n",
        "    strangeList = []\n",
        "\n",
        "    for i in range(0, n):\n",
        "        print(\"Insert\",i)\n",
        "        strangeList.insert(0, i)\n",
        "        print(strangeList)\n",
        "\n",
        "    return strangeList\n",
        "\n",
        "#Call the Function here\n",
        "print(\"Hasil : \", strangeListFunction(10))"
      ]
    },
    {
      "cell_type": "markdown",
      "metadata": {
        "id": "FkhNYnYbpY24"
      },
      "source": [
        "### Latihan\n",
        "\n",
        "Your task is to write and test a function which takes one argument (a year) and returns `True` if the year is a leap year, or `False` otherwise.\n",
        "\n",
        "The seed of the function is already sown in the skeleton code in the editor.\n",
        "\n",
        "Note: we've also prepared a short testing code, which you can use to test your function.\n",
        "\n",
        "The code uses two lists - one with the test data, and the other containing the expected results. The code will tell you if any of your results are invalid.\n",
        "\n",
        "```python\n",
        "def isYearLeap(year):\n",
        "#\n",
        "# put your code here\n",
        "#\n",
        "\n",
        "testData = [1900, 2000, 2016, 1987]\n",
        "testResults = [False, True, True, False]\n",
        "for i in range(len(testData)):\n",
        "\tyr = testData[i]\n",
        "\tprint(yr,\"->\",end=\"\")\n",
        "\tresult = isYearLeap(yr)\n",
        "\tif result == testResults[i]:\n",
        "\t\tprint(\"OK\")\n",
        "\telse:\n",
        "\t\tprint(\"Failed\")\n",
        "        \n",
        "```\n"
      ]
    },
    {
      "cell_type": "code",
      "execution_count": 74,
      "metadata": {
        "colab": {
          "base_uri": "https://localhost:8080/"
        },
        "id": "PYN9VTHMpY25",
        "outputId": "44cae926-d8d5-4647-8e74-f993eed63d57"
      },
      "outputs": [
        {
          "output_type": "stream",
          "name": "stdout",
          "text": [
            "1900 ->OK\n",
            "2000 ->OK\n",
            "2016 ->OK\n",
            "1987 ->OK\n",
            "2004 ->OK\n"
          ]
        }
      ],
      "source": [
        "# Function Test tahun Kabisat\n",
        "def isYearLeap(year):\n",
        "    if (year % 4) == 0:\n",
        "        if (year % 100) == 0:\n",
        "            if (year % 400) == 0:\n",
        "                return True\n",
        "            else:\n",
        "                return False\n",
        "        else:\n",
        "            return True\n",
        "    else:\n",
        "        return False\n",
        "\n",
        "testData = [1900, 2000, 2016, 1987,2004]\n",
        "testResults = [False, True, True, False, True]\n",
        "for i in range(len(testData)):\n",
        "    yr = testData[i]\n",
        "    print(yr,\"->\",end=\"\")\n",
        "    result = isYearLeap(yr)\n",
        "    if result == testResults[i]:\n",
        "        print(\"OK\")\n",
        "    else:\n",
        "        print(\"Failed\")"
      ]
    },
    {
      "cell_type": "markdown",
      "metadata": {
        "id": "3cM107uRpY25"
      },
      "source": [
        "## Scope in Function"
      ]
    },
    {
      "cell_type": "code",
      "execution_count": 75,
      "metadata": {
        "colab": {
          "base_uri": "https://localhost:8080/"
        },
        "id": "-RpIa5UapY25",
        "outputId": "3434e4d4-1fb4-4813-d561-b121083e9905"
      },
      "outputs": [
        {
          "output_type": "stream",
          "name": "stdout",
          "text": [
            "90\n",
            "120\n"
          ]
        }
      ],
      "source": [
        "def scopeTest():\n",
        "    print(a)\n",
        "    b = 120\n",
        "    print(b)\n",
        "\n",
        "#Call the Function here\n",
        "\n",
        "a = 90\n",
        "scopeTest()"
      ]
    },
    {
      "cell_type": "code",
      "execution_count": 76,
      "metadata": {
        "colab": {
          "base_uri": "https://localhost:8080/"
        },
        "id": "A-FFxF_6pY26",
        "outputId": "bc4dbb58-f2ff-4d88-a0e1-39053aeb7d67"
      },
      "outputs": [
        {
          "output_type": "stream",
          "name": "stdout",
          "text": [
            "Do I know that variable? 1\n",
            "1\n"
          ]
        }
      ],
      "source": [
        "def myFunction():\n",
        "    print(\"Do I know that variable?\", var)\n",
        "\n",
        "#Call the Function here\n",
        "var = 1\n",
        "myFunction()\n",
        "print(var)\n",
        "\n",
        "# The answer is: a variable existing outside a function\n",
        "# has a scope inside the functions' bodies."
      ]
    },
    {
      "cell_type": "code",
      "execution_count": 77,
      "metadata": {
        "colab": {
          "base_uri": "https://localhost:8080/"
        },
        "id": "Ue0YROoXpY28",
        "outputId": "db3005e4-7855-41b3-bd29-a43492d47b72"
      },
      "outputs": [
        {
          "output_type": "stream",
          "name": "stdout",
          "text": [
            "Do I know that variable? 2\n",
            "2\n"
          ]
        }
      ],
      "source": [
        "def myFunction():\n",
        "    global var\n",
        "    var = 2\n",
        "    print(\"Do I know that variable?\", var)\n",
        "\n",
        "#Call the Function here\n",
        "var = 1\n",
        "myFunction()\n",
        "print(var)\n",
        "\n",
        "# There's a special Python method which can extend a variable's scope\n",
        "# in a way which includes the functions' bodies\n",
        "# (even if you want not only to read the values, but also to modify them)."
      ]
    },
    {
      "cell_type": "code",
      "execution_count": 78,
      "metadata": {
        "colab": {
          "base_uri": "https://localhost:8080/"
        },
        "id": "QUQ3rBcXpY29",
        "outputId": "453ec8b1-cd4a-496c-eb64-5bcb05dc851b"
      },
      "outputs": [
        {
          "output_type": "stream",
          "name": "stdout",
          "text": [
            "I got 1\n",
            "I have 2\n",
            "1\n"
          ]
        }
      ],
      "source": [
        "def myFunction(n):\n",
        "    print(\"I got\", n)\n",
        "    n += 1\n",
        "    print(\"I have\", n)\n",
        "\n",
        "#Call the Function here\n",
        "var = 1\n",
        "myFunction(var)\n",
        "\n",
        "print(var)\n",
        "\n",
        "#changing the parameter's value doesn't propagate outside the function"
      ]
    },
    {
      "cell_type": "markdown",
      "metadata": {
        "id": "VIwCetpBpY2-"
      },
      "source": [
        "# Some Function Examples"
      ]
    },
    {
      "cell_type": "markdown",
      "metadata": {
        "id": "s5b-nNhzpY2_"
      },
      "source": [
        "## BMI\n",
        "(Body Mass Index)"
      ]
    },
    {
      "cell_type": "code",
      "execution_count": 79,
      "metadata": {
        "colab": {
          "base_uri": "https://localhost:8080/"
        },
        "id": "Zq6FU0vbpY2_",
        "outputId": "f67bc376-d37c-4ea2-819f-25bfb21aa511"
      },
      "outputs": [
        {
          "output_type": "stream",
          "name": "stdout",
          "text": [
            "22.758306781975424\n"
          ]
        }
      ],
      "source": [
        "def bmi(weight, height):\n",
        "    return weight / height ** 2\n",
        "\n",
        "print(bmi(65, 1.69))"
      ]
    },
    {
      "cell_type": "code",
      "execution_count": 80,
      "metadata": {
        "colab": {
          "base_uri": "https://localhost:8080/"
        },
        "id": "Iqbn8FnupY2_",
        "outputId": "d9fe2254-97bd-41e9-ab47-2d71ee275321"
      },
      "outputs": [
        {
          "output_type": "stream",
          "name": "stdout",
          "text": [
            "24.508945765204302\n"
          ]
        }
      ],
      "source": [
        "def bmi(weight, height):\n",
        "    if height < 1.0 \\\n",
        "    or height > 2.5 \\\n",
        "    or weight < 20 \\\n",
        "    or weight > 200:\n",
        "        return None\n",
        "\n",
        "    return weight / height ** 2\n",
        "\n",
        "print(bmi(70, 1.69))"
      ]
    },
    {
      "cell_type": "markdown",
      "metadata": {
        "id": "ZEYbumsNpY3A"
      },
      "source": [
        "## Segitiga"
      ]
    },
    {
      "cell_type": "code",
      "execution_count": 81,
      "metadata": {
        "colab": {
          "base_uri": "https://localhost:8080/"
        },
        "id": "emvxqEOApY3A",
        "outputId": "bf734144-f4e2-4fc0-c672-e56ea55d291e"
      },
      "outputs": [
        {
          "output_type": "stream",
          "name": "stdout",
          "text": [
            "True\n",
            "True\n"
          ]
        }
      ],
      "source": [
        "def isItATriangle(a, b, c):\n",
        "    if a + b <= c:\n",
        "        return False\n",
        "    if b + c <= a:\n",
        "        return False\n",
        "    if c + a <= b:\n",
        "        return False\n",
        "\n",
        "    return True\n",
        "\n",
        "#Call the Function here\n",
        "print(isItATriangle(1,1,1))\n",
        "print(isItATriangle(1,2,2))"
      ]
    },
    {
      "cell_type": "code",
      "execution_count": 82,
      "metadata": {
        "colab": {
          "base_uri": "https://localhost:8080/"
        },
        "id": "28-OmNn9pY3A",
        "outputId": "b03ae53f-a650-4baa-90a1-8b88301eccb1"
      },
      "outputs": [
        {
          "output_type": "stream",
          "name": "stdout",
          "text": [
            "Enter the first side's length: 20\n",
            "Enter the second side's length: 33\n",
            "Enter the third side's length: 45\n",
            "Congratulations - it can be a triangle.\n"
          ]
        }
      ],
      "source": [
        "def isItATriangle(a, b, c):\n",
        "    return a + b > c and b + c > a and c + a > b\n",
        "\n",
        "a = float(input(\"Enter the first side's length: \"))\n",
        "b = float(input(\"Enter the second side's length: \"))\n",
        "c = float(input(\"Enter the third side's length: \"))\n",
        "\n",
        "if isItATriangle(a, b, c):\n",
        "    print(\"Congratulations - it can be a triangle.\")\n",
        "else:\n",
        "    print(\"Sorry, it won't be a triangle.\")"
      ]
    },
    {
      "cell_type": "markdown",
      "metadata": {
        "id": "w3pfU-i-pY3B"
      },
      "source": [
        "## Faktorial"
      ]
    },
    {
      "cell_type": "code",
      "execution_count": 83,
      "metadata": {
        "colab": {
          "base_uri": "https://localhost:8080/"
        },
        "id": "yKFb-oHApY3T",
        "outputId": "ca896385-fdd8-4a18-d44c-cb919a902c4a"
      },
      "outputs": [
        {
          "output_type": "stream",
          "name": "stdout",
          "text": [
            "1 1\n",
            "2 2\n",
            "3 6\n",
            "4 24\n",
            "5 120\n",
            "6 720\n",
            "7 5040\n",
            "8 40320\n",
            "9 362880\n",
            "10 3628800\n",
            "11 39916800\n",
            "12 479001600\n",
            "13 6227020800\n",
            "14 87178291200\n"
          ]
        }
      ],
      "source": [
        "def factorialFun(n):\n",
        "    if n < 0:\n",
        "        return None\n",
        "    if n < 2:\n",
        "        return 1\n",
        "\n",
        "    product = 1\n",
        "    for i in range(2, n + 1):\n",
        "        product *= i\n",
        "    return product\n",
        "\n",
        "#Call the Function here\n",
        "for n in range(1, 15): # testing\n",
        "    print(n, factorialFun(n))"
      ]
    },
    {
      "cell_type": "markdown",
      "metadata": {
        "id": "LAp9N8xYpY3T"
      },
      "source": [
        "## Fibonacci"
      ]
    },
    {
      "cell_type": "code",
      "execution_count": 84,
      "metadata": {
        "colab": {
          "base_uri": "https://localhost:8080/"
        },
        "id": "93p1rnvhpY3U",
        "outputId": "a5165594-c862-4436-8a71-21ef0a079419"
      },
      "outputs": [
        {
          "output_type": "stream",
          "name": "stdout",
          "text": [
            "1 > 1\n",
            "2 > 1\n",
            "3 > 2\n",
            "4 > 3\n",
            "5 > 5\n",
            "6 > 8\n",
            "7 > 13\n",
            "8 > 21\n",
            "9 > 34\n"
          ]
        }
      ],
      "source": [
        "def fib(n):\n",
        "    if n < 1:\n",
        "         return None\n",
        "    if n < 3:\n",
        "        return 1\n",
        "\n",
        "    elem1 = elem2 = 1\n",
        "    sum = 0\n",
        "    for i in range(3, n + 1):\n",
        "        sum = elem1 + elem2\n",
        "        elem1, elem2 = elem2, sum\n",
        "    return sum\n",
        "\n",
        "#Call the Function here\n",
        "for n in range(1, 10): #testing\n",
        "    print(n, \">\", fib(n))"
      ]
    },
    {
      "cell_type": "markdown",
      "metadata": {
        "id": "UPF8U9YBpY3b"
      },
      "source": [
        "## Recursion"
      ]
    },
    {
      "cell_type": "code",
      "execution_count": 85,
      "metadata": {
        "colab": {
          "base_uri": "https://localhost:8080/"
        },
        "id": "IGbMEVowpY3b",
        "outputId": "a7952267-5b08-4622-b4e6-02564c4ab725"
      },
      "outputs": [
        {
          "output_type": "stream",
          "name": "stdout",
          "text": [
            "1 -> 1\n",
            "2 -> 1\n",
            "3 -> 2\n",
            "4 -> 3\n",
            "5 -> 5\n",
            "6 -> 8\n",
            "7 -> 13\n",
            "8 -> 21\n",
            "9 -> 34\n",
            "56\n"
          ]
        }
      ],
      "source": [
        "#recursion 1\n",
        "def fib(n):\n",
        "    if n < 1:\n",
        "        return None\n",
        "    if n < 3:\n",
        "        return 1\n",
        "    return fib(n - 1) + fib(n - 2)\n",
        "\n",
        "for n in range(1, 10): # testing\n",
        "    print(n, \"->\", fib(n))\n",
        "\n",
        "#recursion 2\n",
        "\n",
        "def fun(a):\n",
        "    if a > 30:\n",
        "        return 3\n",
        "    else:\n",
        "        return a + fun(a + 3)\n",
        "\n",
        "\n",
        "print(fun(25))\n"
      ]
    },
    {
      "cell_type": "markdown",
      "metadata": {
        "id": "h4VpanUKpY3b"
      },
      "source": [
        "#### Contoh Kasus Stop Word Removal"
      ]
    },
    {
      "cell_type": "code",
      "execution_count": 86,
      "metadata": {
        "colab": {
          "base_uri": "https://localhost:8080/"
        },
        "id": "B16_fWkzpY3b",
        "outputId": "df69cfcb-1954-4b19-9629-b66adcf0bab0"
      },
      "outputs": [
        {
          "output_type": "stream",
          "name": "stdout",
          "text": [
            "ibu pergi pasar bapak\n"
          ]
        }
      ],
      "source": [
        "kalimat = \"Ibu pergi ke pasar dengan Bapak\"\n",
        "stopw = ['ke','dengan','saya','dia']\n",
        "\n",
        "def removeStop(sentence):\n",
        "#     words = []\n",
        "    words = [word for word in sentence.split() if word not in stopw]\n",
        "#     for word in sentence.split():\n",
        "#         if word not in stopw:\n",
        "#             words.append(word)\n",
        "\n",
        "    return ' '.join(words)\n",
        "\n",
        "# print('ke' in kalimat.split())\n",
        "kalimat_stop = removeStop(kalimat.lower())\n",
        "\n",
        "print(kalimat_stop)\n",
        "# output kalimat_stop: Ibu pergi pasar Bapak\"\n",
        "\n"
      ]
    },
    {
      "cell_type": "markdown",
      "metadata": {
        "id": "oQ6Pus0EpY3b"
      },
      "source": [
        "# Tuples and Dictionaries"
      ]
    },
    {
      "cell_type": "markdown",
      "metadata": {
        "id": "Bkw91nAhpY3c"
      },
      "source": [
        "##### List VS Tuple\n",
        "List datanya bisa dirubah selama eksekusi program, sifatnya bernama mutable\n",
        "Sebaliknya tuple tidak bisa, sifatnya dinamakan immutable. Persamaannya keduanya sama-sama bisa menyimpan banyak nilai sekaligus dalam satu tipe data (sequence type)"
      ]
    },
    {
      "cell_type": "markdown",
      "metadata": {
        "id": "fIDNbfREpY3c"
      },
      "source": [
        "## Tuples\n",
        "Tuples are ordered and unchangeable (immutable) collections of data. They can be thought of as immutable lists. They are written in round brackets:"
      ]
    },
    {
      "cell_type": "code",
      "execution_count": 87,
      "metadata": {
        "colab": {
          "base_uri": "https://localhost:8080/"
        },
        "id": "cDtFPCg4pY3c",
        "outputId": "4e58efb4-f5b0-42b3-8ff1-eac915476ef5"
      },
      "outputs": [
        {
          "output_type": "stream",
          "name": "stdout",
          "text": [
            "(1, 2, True, 'a string', (3, 4), [5, 6], None)\n",
            "[1, 2, True, 'a string', (3, 4), [5, 6], None]\n"
          ]
        }
      ],
      "source": [
        "myTuple = (1, 2, True, \"a string\", (3, 4), [5, 6], None)\n",
        "#Print Function here\n",
        "print(myTuple)\n",
        "\n",
        "myList = [1, 2, True, \"a string\", (3, 4), [5, 6], None]\n",
        "#Print Function here\n",
        "print(myList)\n"
      ]
    },
    {
      "cell_type": "code",
      "execution_count": 88,
      "metadata": {
        "colab": {
          "base_uri": "https://localhost:8080/"
        },
        "id": "IQoacIWPpY3c",
        "outputId": "499bd80e-1084-4a8e-8d46-9d79108e50d5"
      },
      "outputs": [
        {
          "output_type": "stream",
          "name": "stdout",
          "text": [
            "(1, 2, 3, 4)\n",
            "(1.0, 0.5, 0.25, 0.124)\n"
          ]
        }
      ],
      "source": [
        "tup1 = (1,2,3,4)\n",
        "tup2 = 1.0, .5, .25, .124\n",
        "\n",
        "print(tup1)\n",
        "print(tup2)"
      ]
    },
    {
      "cell_type": "code",
      "execution_count": 89,
      "metadata": {
        "colab": {
          "base_uri": "https://localhost:8080/"
        },
        "id": "yUMBH5agpY3c",
        "outputId": "1c259bf8-b9ec-4374-a316-22c75aa5aa98"
      },
      "outputs": [
        {
          "output_type": "stream",
          "name": "stdout",
          "text": [
            "<class 'tuple'>\n"
          ]
        }
      ],
      "source": [
        "emptyTuple = ()\n",
        "print(type(emptyTuple))"
      ]
    },
    {
      "cell_type": "code",
      "execution_count": 90,
      "metadata": {
        "colab": {
          "base_uri": "https://localhost:8080/"
        },
        "id": "aEsMdfWupY3d",
        "outputId": "8bf1bd07-31e8-425a-c40b-b57e5a36f8de"
      },
      "outputs": [
        {
          "output_type": "stream",
          "name": "stdout",
          "text": [
            "1\n",
            "1000\n",
            "(10, 100, 1000)\n",
            "(1, 10)\n",
            "1 10 100 1000 "
          ]
        }
      ],
      "source": [
        "myTuple = (1, 10, 100, 1000)\n",
        "\n",
        "print(myTuple[0])\n",
        "print(myTuple[-1])\n",
        "print(myTuple[1:])\n",
        "print(myTuple[:-2])\n",
        "\n",
        "for elem in myTuple:\n",
        "    print(elem, end = \" \")"
      ]
    },
    {
      "cell_type": "code",
      "execution_count": 91,
      "metadata": {
        "id": "gX79eXtGpY3e"
      },
      "outputs": [],
      "source": [
        "myTuple = (1, 10, 100, 1000)\n",
        "\n",
        "#Tuple operation ?\n",
        "\n",
        "# myTuple.append(10000)\n",
        "# del myTuple[0]\n",
        "# myTuple[1] = -10"
      ]
    },
    {
      "cell_type": "code",
      "execution_count": 92,
      "metadata": {
        "colab": {
          "base_uri": "https://localhost:8080/"
        },
        "id": "iDWIbVSNpY3e",
        "outputId": "2c964334-62f3-4edd-cdf4-76261a97819a"
      },
      "outputs": [
        {
          "output_type": "stream",
          "name": "stdout",
          "text": [
            "<class 'tuple'>\n",
            "1\n",
            "100\n",
            "(10, 100)\n",
            "(1,)\n"
          ]
        }
      ],
      "source": [
        "myTuple = (1, 10, 100)\n",
        "print(type(myTuple))\n",
        "\n",
        "#Tuple operation\n",
        "print(myTuple[0])\n",
        "print(myTuple[-1])\n",
        "print(myTuple[1:])\n",
        "print(myTuple[:-2])\n",
        "# Print Function here"
      ]
    },
    {
      "cell_type": "code",
      "execution_count": 93,
      "metadata": {
        "colab": {
          "base_uri": "https://localhost:8080/"
        },
        "id": "4Peq4XkJpY3f",
        "outputId": "aa7606ef-939e-4291-bd02-4947ef031031"
      },
      "outputs": [
        {
          "output_type": "stream",
          "name": "stdout",
          "text": [
            "1\n",
            "2\n",
            "3\n",
            "False\n",
            "True\n",
            "4\n",
            "(1, 2, 3, 1, 2, 3, 4)\n",
            "(1, 2, 3, 5, 1, 2, 3, 5)\n"
          ]
        }
      ],
      "source": [
        "# Example 1\n",
        "t1 = (1, 2, 3)\n",
        "for elem in t1:\n",
        "    print(elem)\n",
        "\n",
        "# Example 2\n",
        "t2 = (1, 2, 3, 4)\n",
        "print(5 in t2)\n",
        "print(5 not in t2)\n",
        "\n",
        "# Example 3\n",
        "t3 = (1, 2, 3, 5)\n",
        "print(len(t3))\n",
        "\n",
        "# Example 4\n",
        "t4 = t1 + t2\n",
        "t5 = t3 * 2\n",
        "\n",
        "print(t4)\n",
        "print(t5)"
      ]
    },
    {
      "cell_type": "markdown",
      "metadata": {
        "id": "lmHq9kHUpY3f"
      },
      "source": [
        "## Dictionaries"
      ]
    },
    {
      "cell_type": "markdown",
      "metadata": {
        "id": "iV-BH9-tpY3g"
      },
      "source": [
        "In Python's world, the word you look for is named a key. The word you get from the dictionary is called a value.\n",
        "\n",
        "Dictionaries are unordered*, changeable (mutable), and indexed collections of data. (*In Python 3.6x dictionaries have become ordered by default.\n",
        "\n",
        "This means that a dictionary is a set of key-value pairs. Note:\n",
        "\n",
        "- each key must be unique - it's not possible to have more than one key of the same value;\n",
        "- a key may be data of any type: it may be a number (integer or float), or even a string;\n",
        "- a dictionary is not a list - a list contains a set of numbered values, while a dictionary holds pairs of values;\n",
        "- the len() function works for dictionaries, too - it returns the numbers of key-value elements in the dictionary;\n",
        "- a dictionary is a one-way tool - if you have an English-French dictionary, you can look for French equivalents of English terms, but not vice versa."
      ]
    },
    {
      "cell_type": "code",
      "execution_count": 94,
      "metadata": {
        "colab": {
          "base_uri": "https://localhost:8080/"
        },
        "id": "o1hXBQbOpY3i",
        "outputId": "6b5edabe-a7b1-4db8-b6db-55584698dcbe"
      },
      "outputs": [
        {
          "output_type": "stream",
          "name": "stdout",
          "text": [
            "\n",
            "{'boss': 5551234567, 'Suzy': [22657854310, 52852352]}\n",
            "{}\n"
          ]
        }
      ],
      "source": [
        "kamus = {\"cat\" : \"chat\", \"dog\" : \"chien\", \"horse\" : \"cheval\"}\n",
        "phoneNumbers = {'boss' : 5551234567, 'Suzy' : [22657854310,52852352]}\n",
        "emptyDictionary = {}\n",
        "\n",
        "print()\n",
        "print(phoneNumbers)\n",
        "print(emptyDictionary)"
      ]
    },
    {
      "cell_type": "code",
      "execution_count": 95,
      "metadata": {
        "colab": {
          "base_uri": "https://localhost:8080/"
        },
        "id": "S7-iCwHfpY3j",
        "outputId": "0057d3c9-2453-493b-ebaf-4ec93329c8ba"
      },
      "outputs": [
        {
          "output_type": "stream",
          "name": "stdout",
          "text": [
            "chat\n",
            "[22657854310, 52852352]\n",
            "22657854310\n"
          ]
        }
      ],
      "source": [
        "print(kamus['cat'])\n",
        "print(phoneNumbers['Suzy'])\n",
        "print(phoneNumbers['Suzy'][0])"
      ]
    },
    {
      "cell_type": "code",
      "execution_count": 96,
      "metadata": {
        "colab": {
          "base_uri": "https://localhost:8080/"
        },
        "id": "s4Ppa79UpY3j",
        "outputId": "3d7a3519-f8c3-4a03-fe4a-6546553b21b9"
      },
      "outputs": [
        {
          "output_type": "stream",
          "name": "stdout",
          "text": [
            "horse cheval\n",
            "cat chat\n",
            "dog chien\n"
          ]
        }
      ],
      "source": [
        "dict = {\"horse\" : \"cheval\", \"cat\" : \"chat\", \"dog\" : \"chien\"}\n",
        "\n",
        "for key in dict.keys():\n",
        "    print(key,dict[key])"
      ]
    },
    {
      "cell_type": "code",
      "execution_count": 97,
      "metadata": {
        "colab": {
          "base_uri": "https://localhost:8080/"
        },
        "id": "e8-F0asZpY3j",
        "outputId": "751d30b5-5ca2-4a2e-884b-d7f173ae0513"
      },
      "outputs": [
        {
          "output_type": "stream",
          "name": "stdout",
          "text": [
            "cat -> chat\n",
            "dog -> chien\n",
            "horse -> cheval\n"
          ]
        }
      ],
      "source": [
        "for key in sorted(dict.keys()):\n",
        "    print(key, \"->\", dict[key])"
      ]
    },
    {
      "cell_type": "markdown",
      "metadata": {
        "id": "jDnvVzw5pY3k"
      },
      "source": [
        "### items and values"
      ]
    },
    {
      "cell_type": "code",
      "execution_count": 98,
      "metadata": {
        "colab": {
          "base_uri": "https://localhost:8080/"
        },
        "id": "xG59fDQvpY3k",
        "outputId": "b4448393-84dc-4e9b-8377-e1188330aad4"
      },
      "outputs": [
        {
          "output_type": "stream",
          "name": "stdout",
          "text": [
            "cat -> chat\n",
            "dog -> chien\n",
            "horse -> cheval\n"
          ]
        }
      ],
      "source": [
        "dict = {\"cat\" : \"chat\", \"dog\" : \"chien\", \"horse\" : \"cheval\"}\n",
        "\n",
        "for english, french in dict.items():\n",
        "    print(english, \"->\", french)"
      ]
    },
    {
      "cell_type": "code",
      "execution_count": 99,
      "metadata": {
        "colab": {
          "base_uri": "https://localhost:8080/"
        },
        "id": "aq9UAQVMpY3k",
        "outputId": "a62eee3e-9c76-418a-9ef1-3e612b0d55dc"
      },
      "outputs": [
        {
          "output_type": "stream",
          "name": "stdout",
          "text": [
            "chat\n",
            "chien\n",
            "cheval\n"
          ]
        }
      ],
      "source": [
        "dict = {\"cat\" : \"chat\", \"dog\" : \"chien\", \"horse\" : \"cheval\"}\n",
        "\n",
        "for french in dict.values():\n",
        "    print(french)"
      ]
    },
    {
      "cell_type": "code",
      "execution_count": 100,
      "metadata": {
        "colab": {
          "base_uri": "https://localhost:8080/"
        },
        "id": "0edaquidpY3l",
        "outputId": "13aff243-efb2-4787-fce1-ecaa17da5281"
      },
      "outputs": [
        {
          "output_type": "stream",
          "name": "stdout",
          "text": [
            "cat -> chat\n",
            "lion is not in dictionary\n",
            "horse -> cheval\n",
            "mouse is not in dictionary\n"
          ]
        }
      ],
      "source": [
        "dict = {\"cat\" : \"chat\", \"dog\" : \"chien\", \"horse\" : \"cheval\"}\n",
        "words = ['cat', 'lion', 'horse','mouse']\n",
        "\n",
        "for word in words:\n",
        "    if word in dict:\n",
        "        print(word, \"->\", dict[word])\n",
        "    else:\n",
        "        print(word, \"is not in dictionary\")"
      ]
    },
    {
      "cell_type": "markdown",
      "metadata": {
        "id": "-nWU1ypKpY3l"
      },
      "source": [
        "### Replace"
      ]
    },
    {
      "cell_type": "code",
      "execution_count": 101,
      "metadata": {
        "colab": {
          "base_uri": "https://localhost:8080/"
        },
        "id": "wyp8hjNhpY3m",
        "outputId": "0e9e53b2-121a-477c-fa1b-5e3d0a4ceaff"
      },
      "outputs": [
        {
          "output_type": "stream",
          "name": "stdout",
          "text": [
            "{'cat': 'minou', 'dog': 'chien', 'horse': 'cheval'}\n"
          ]
        }
      ],
      "source": [
        "dict = {\"cat\" : \"chat\", \"dog\" : \"chien\", \"horse\" : \"cheval\"}\n",
        "\n",
        "dict['cat'] = 'minou'\n",
        "print(dict)"
      ]
    },
    {
      "cell_type": "markdown",
      "metadata": {
        "id": "1auJ5iQOpY3m"
      },
      "source": [
        "### Adding new key"
      ]
    },
    {
      "cell_type": "code",
      "execution_count": 102,
      "metadata": {
        "colab": {
          "base_uri": "https://localhost:8080/"
        },
        "id": "uVLEgMRVpY3n",
        "outputId": "818d4907-287e-4e7d-bdcf-f8baa620a0cd"
      },
      "outputs": [
        {
          "output_type": "stream",
          "name": "stdout",
          "text": [
            "{'cat': 'chat', 'dog': 'chien', 'horse': 'cheval', 'swan': 'cygne', 'animal': 'hewan'}\n",
            "animal hewan\n",
            "cat chat\n",
            "dog chien\n",
            "horse cheval\n",
            "swan cygne\n"
          ]
        }
      ],
      "source": [
        "dict = {\"cat\" : \"chat\", \"dog\" : \"chien\", \"horse\" : \"cheval\"}\n",
        "\n",
        "dict['swan'] = 'cygne'\n",
        "dict['animal'] = 'hewan'\n",
        "print(dict)\n",
        "\n",
        "for key in sorted(dict.keys()):\n",
        "    print(key,dict[key])"
      ]
    },
    {
      "cell_type": "markdown",
      "metadata": {
        "id": "l4bfXtBnpY3n"
      },
      "source": [
        "### Tuples and Dictionaries work Together\n",
        "\n"
      ]
    },
    {
      "cell_type": "markdown",
      "metadata": {
        "id": "bJ2EB9aVpY3o"
      },
      "source": [
        "- line 1: create an empty dictionary for the input data; the student's name is used as a key, while all the associated scores are stored in a tuple (the tuple may be a dictionary value - that's not a problem at all)\n",
        "- line 3: enter an \"infinite\" loop (don't worry, it'll break at the right moment)\n",
        "- line 4: read the student's name here;\n",
        "- line 5-6: if the name is exit, leave the loop;\n",
        "- line 8: ask for one of the student's scores (an integer from the range 1-10)\n",
        "- line 10-11: if the student's name is already in the dictionary, lengthen the associated tuple with the new score (note the += operator)\n",
        "- line 12-13: if this is a new student (unknown to the dictionary), create a new entry - its value is a one-element tuple containing the entered score;\n",
        "- line 15: iterate through the sorted students' names;\n",
        "- line 16-17: initialize the data needed to evaluate the average (sum and counter)\n",
        "- line 18-20: we iterate through the tuple, taking all the subsequent scores and updating the sum, together with the counter;\n",
        "- line 21: evaluate and print the student's name and average score."
      ]
    },
    {
      "cell_type": "code",
      "execution_count": 103,
      "metadata": {
        "colab": {
          "base_uri": "https://localhost:8080/"
        },
        "id": "SDaBm0d0pY3o",
        "outputId": "15ecb8f8-da4a-44d7-a400-691fe47448d8"
      },
      "outputs": [
        {
          "output_type": "stream",
          "name": "stdout",
          "text": [
            "Enter the student's name (or type exit to stop): Alwi \n",
            "Enter the student's score (0-10): 5\n",
            "Enter the student's name (or type exit to stop): Arum\n",
            "Enter the student's score (0-10): 6\n",
            "Enter the student's name (or type exit to stop): exit\n",
            "{'Alwi ': (5,), 'Arum': (6,)}\n",
            "Alwi  : 5.0\n",
            "Arum : 6.0\n"
          ]
        }
      ],
      "source": [
        "schoolClass = {}\n",
        "\n",
        "while True:\n",
        "    name = input(\"Enter the student's name (or type exit to stop): \")\n",
        "    if name == 'exit':\n",
        "        break\n",
        "\n",
        "    score = int(input(\"Enter the student's score (0-10): \"))\n",
        "\n",
        "    if name in schoolClass:\n",
        "        schoolClass[name] += (score,)\n",
        "    else:\n",
        "        schoolClass[name] = (score,)\n",
        "\n",
        "print(schoolClass)\n",
        "\n",
        "for name in sorted(schoolClass.keys()):\n",
        "    sum = 0\n",
        "    counter = 0\n",
        "    for score in schoolClass[name]:\n",
        "        sum += score\n",
        "        counter += 1\n",
        "    print(name, \":\", sum / counter)"
      ]
    },
    {
      "cell_type": "code",
      "execution_count": 104,
      "metadata": {
        "colab": {
          "base_uri": "https://localhost:8080/"
        },
        "id": "HWljVgbNpY3p",
        "outputId": "5741d3f7-b1f2-45b9-a421-9e86cb826df8"
      },
      "outputs": [
        {
          "output_type": "stream",
          "name": "stdout",
          "text": [
            "{'ibu': 3, 'pergi': 1, 'pasar': 1, 'bapak': 1}\n"
          ]
        }
      ],
      "source": [
        "def tf(sentence):\n",
        "    d = {}\n",
        "    for word in sentence.split():\n",
        "        if word not in d:\n",
        "            d[word] = 1\n",
        "        else:\n",
        "            d[word] += 1\n",
        "    return d\n",
        "\n",
        "kalimat = \"Ibu pergi ke pasar dengan Bapak dan Ibu Ibu lain\"\n",
        "stopw.append('dan')\n",
        "stopw.append('lain')\n",
        "kalimat_stop = removeStop(kalimat.lower())\n",
        "tf_kalimat = tf(kalimat_stop)\n",
        "\n",
        "print(tf_kalimat)"
      ]
    },
    {
      "cell_type": "markdown",
      "metadata": {
        "id": "UtSpCJJBpY3q"
      },
      "source": [
        "# Summary\n",
        "\n",
        "1. Dictionaries are unordered*, changeable (mutable), and indexed collections of data. (*In Python 3.6x dictionaries have become ordered by default.\n",
        "\n",
        "Each dictionary is a set of key : value pairs. You can create it by using the following syntax:\n",
        "\n",
        "```python            \n",
        "myDictionary = {\n",
        "    key1 : value1,\n",
        "    key2 : value2,\n",
        "    key3 : value3,\n",
        "    }\n",
        "```\n",
        "2. If you want to access a dictionary item, you can do so by making a reference to its key inside a pair of square brackets (ex. 1) or by using the get() method (ex. 2):\n",
        "\n",
        "```python                                                                                         \n",
        "polEngDict = {\n",
        "    \"kwiat\" : \"flower\",\n",
        "    \"woda\"  : \"water\",\n",
        "    \"gleba\" : \"soil\"\n",
        "    }\n",
        "\n",
        "item1 = polEngDict[\"gleba\"]    # ex. 1\n",
        "print(item1)    # outputs: soil\n",
        "\n",
        "item2 = polEngDict.get(\"woda\")\n",
        "print(item2)    # outputs: water\n",
        "```\n",
        "3. If you want to change the value associated with a specific key, you can do so by referring to the item's key name in the following way:\n",
        "\n",
        "```python\n",
        "polEngDict = {\n",
        "    \"zamek\" : \"castle\",\n",
        "    \"woda\"  : \"water\",\n",
        "    \"gleba\" : \"soil\"\n",
        "    }\n",
        "\n",
        "polEngDict[\"zamek\"] = \"lock\"\n",
        "item = polEngDict[\"zamek\"]    # outputs: lock\n",
        "```\n",
        "4. To add or remove a key (and the associated value), use the following syntax:\n",
        "\n",
        "```python\n",
        "myPhonebook = {}    # an empty dictionary\n",
        "\n",
        "myPhonebook[\"Adam\"] = 3456783958    # create/add a key-value pair\n",
        "print(myPhonebook)    # outputs: {'Adam': 3456783958}\n",
        "\n",
        "del myPhonebook[\"Adam\"]\n",
        "print(myPhonebook)    # outputs: {}\n",
        "```\n",
        "\n",
        "You can also insert an item to a dictionary by using the update() method, and remove the last element by using the popitem() method, e.g.:\n",
        "\n",
        "```python\n",
        "polEngDict = {\"kwiat\" : \"flower\"}\n",
        "\n",
        "polEngDict = update(\"gleba\" : \"soil\")\n",
        "print(polEngDict)    # outputs: {'kwiat' : 'flower', 'gleba' : 'soil'}\n",
        "\n",
        "polEngDict.popitem()\n",
        "print(polEngDict)    # outputs: {'kwiat' : 'flower'}\n",
        "```\n",
        "\n",
        "5. You can use the for loop to loop through a dictionary, e.g.:\n",
        "\n",
        "```python\n",
        "polEngDict = {\n",
        "    \"zamek\" : \"castle\",\n",
        "    \"woda\"  : \"water\",\n",
        "    \"gleba\" : \"soil\"\n",
        "    }\n",
        "\n",
        "for item in polEngDict:\n",
        "    print(item)    # outputs: zamek\n",
        "                   #          woda\n",
        "                   #          gleba\n",
        "\n",
        "```\n",
        "\n",
        "\n",
        "\n",
        "6. If you want to loop through a dictionary's keys and values, you can use the items() method, e.g.:\n",
        "\n",
        "\n",
        "```python\n",
        "polEngDict = {\n",
        "    \"zamek\" : \"castle\",\n",
        "    \"woda\"  : \"water\",\n",
        "    \"gleba\" : \"soil\"\n",
        "    }\n",
        "\n",
        "for key, value in polEngDict.items():\n",
        "    print(\"Pol/Eng ->\", key, \":\", value)\n",
        "```\n",
        "\n",
        "\n",
        "7. To check if a given key exists in a dictionary, you can use the in keyword:\n",
        "\n",
        "```python\n",
        "polEngDict = {\n",
        "    \"zamek\" : \"castle\",\n",
        "    \"woda\"  : \"water\",\n",
        "    \"gleba\" : \"soil\"\n",
        "    }\n",
        "\n",
        "if \"zamek\" in polEngDict:\n",
        "    print(\"Yes\")\n",
        "else:\n",
        "    print(\"No\")\n",
        "```\n",
        "\n",
        "8. You can use the del keyword to remove a specific item, or delete a dictionary. To remove all the dictionary's items, you need to use the clear() method:\n",
        "\n",
        "```python\n",
        "polEngDict = {\n",
        "    \"zamek\" : \"castle\",\n",
        "    \"woda\"  : \"water\",\n",
        "    \"gleba\" : \"soil\"\n",
        "    }\n",
        "\n",
        "print(len(polEngDict))    # outputs: 3\n",
        "del polEngDict[\"zamek\"]    # remove an item\n",
        "print(len(polEngDict))    # outputs: 2\n",
        "\n",
        "polEngDict.clear()   # removes all the items\n",
        "print(len(polEngDict))    # outputs: 0\n",
        "\n",
        "del polEngDict    # removes the dictionary\n",
        "```\n",
        "\n",
        "9. To copy a dictionary, use the copy() method:\n",
        "\n",
        "```python\n",
        "polEngDict = {\n",
        "    \"zamek\" : \"castle\",\n",
        "    \"woda\"  : \"water\",\n",
        "    \"gleba\" : \"soil\"\n",
        "    }\n",
        "\n",
        "copyDict = polEngDict.copy()\n",
        "```"
      ]
    },
    {
      "cell_type": "markdown",
      "metadata": {
        "id": "HU3bwZcepY3r"
      },
      "source": [
        "# Key Takeaways"
      ]
    },
    {
      "cell_type": "code",
      "execution_count": 105,
      "metadata": {
        "colab": {
          "base_uri": "https://localhost:8080/"
        },
        "id": "mHzowAa0pY3r",
        "outputId": "6b4b8d2b-acc3-4b20-e854-9cd4aa438599"
      },
      "outputs": [
        {
          "output_type": "stream",
          "name": "stdout",
          "text": [
            "None\n",
            "[5, 6]\n",
            "(3, 4)\n",
            "a string\n",
            "True\n",
            "2\n",
            "1\n"
          ]
        }
      ],
      "source": [
        "myTuple = (1, 2, True, \"a string\", (3, 4), [5, 6], None)\n",
        "#print(myTuple)\n",
        "\n",
        "myList = [1, 2, True, \"a string\", (3, 4), [5, 6], None]\n",
        "#print(myList)\n",
        "\n",
        "for r in myTuple[::-1]:\n",
        "    print(r)"
      ]
    },
    {
      "cell_type": "code",
      "execution_count": 106,
      "metadata": {
        "colab": {
          "base_uri": "https://localhost:8080/"
        },
        "id": "T1bbYBu5pY3v",
        "outputId": "c0893d4f-986b-44a5-c834-2e44ae1eb126"
      },
      "outputs": [
        {
          "output_type": "stream",
          "name": "stdout",
          "text": [
            "<class 'tuple'>\n"
          ]
        }
      ],
      "source": [
        "emptyTuple = ()\n",
        "print(type(emptyTuple))    # outputs: <class 'tuple'>"
      ]
    },
    {
      "cell_type": "code",
      "execution_count": 107,
      "metadata": {
        "colab": {
          "base_uri": "https://localhost:8080/"
        },
        "id": "YlYc-rwEpY3v",
        "outputId": "aaf04ce3-1989-476e-f128-349f215f1e5c"
      },
      "outputs": [
        {
          "output_type": "stream",
          "name": "stdout",
          "text": [
            "[1, 2, True, 'a string', (3, 4), [5, 6], None]\n",
            "(1, 2, True, 'a string', (3, 4), [5, 6], None)\n"
          ]
        }
      ],
      "source": [
        "myListTuple = list(myTuple)\n",
        "print(myListTuple)\n",
        "myTupleLagi = tuple(myListTuple)\n",
        "print(myTupleLagi)"
      ]
    },
    {
      "cell_type": "code",
      "execution_count": 108,
      "metadata": {
        "colab": {
          "base_uri": "https://localhost:8080/"
        },
        "id": "fuqrW5F1pY3w",
        "outputId": "e89ac98a-3936-4975-81b1-56ee7508d5ba"
      },
      "outputs": [
        {
          "output_type": "stream",
          "name": "stdout",
          "text": [
            "<class 'tuple'>\n",
            "2\n",
            "<class 'list'>\n"
          ]
        }
      ],
      "source": [
        "oneElemTup1 = (\"one\",  )    # brackets dan koma, kalau tidak ada komanya jadi string\n",
        "oneElemTup2 = \"one\",     # no brackets, just a comma\n",
        "\n",
        "print(type(oneElemTup1))\n",
        "print(len(oneElemTup1+oneElemTup2))\n",
        "\n",
        "oneElemList = ['one']\n",
        "print(type(oneElemList))"
      ]
    },
    {
      "cell_type": "code",
      "execution_count": 109,
      "metadata": {
        "colab": {
          "base_uri": "https://localhost:8080/"
        },
        "id": "Fo6rwEGxpY3w",
        "outputId": "49284459-47ef-43b3-92c3-2911eaff0a3c"
      },
      "outputs": [
        {
          "output_type": "stream",
          "name": "stdout",
          "text": [
            "1\n",
            "2\n",
            "3\n",
            "False\n",
            "True\n",
            "4\n",
            "(1, 2, 3, 1, 2, 3, 4)\n",
            "(1, 2, 3, 5, 1, 2, 3, 5)\n"
          ]
        }
      ],
      "source": [
        "# Example 1\n",
        "t1 = (1, 2, 3)\n",
        "for elem in t1:\n",
        "    print(elem)\n",
        "\n",
        "# Example 2\n",
        "t2 = (1, 2, 3, 4)\n",
        "print(5 in t2)\n",
        "print(5 not in t2)\n",
        "\n",
        "# Example 3\n",
        "t3 = (1, 2, 3, 5)\n",
        "print(len(t3))\n",
        "\n",
        "# Example 4\n",
        "t4 = t1 + t2\n",
        "t5 = t3 * 2\n",
        "\n",
        "print(t4)\n",
        "print(t5)\n"
      ]
    },
    {
      "cell_type": "code",
      "execution_count": 110,
      "metadata": {
        "colab": {
          "base_uri": "https://localhost:8080/"
        },
        "id": "SvdDdjiepY3x",
        "outputId": "403fe25b-ed19-44ec-9718-a1fbafb3c647"
      },
      "outputs": [
        {
          "output_type": "stream",
          "name": "stdout",
          "text": [
            "79\n"
          ]
        }
      ],
      "source": [
        "import pprint\n",
        "pp = pprint.PrettyPrinter(indent=4)\n",
        "\n",
        "mahasiswa = [\n",
        "    {\n",
        "        'nim' : '08/123123/PA/123213',\n",
        "        'nama' : 'Guntur Budi H',\n",
        "        'nilai' : [80,90,75,30]\n",
        "    },\n",
        "    {\n",
        "        'nim' : '08/213123/PA/98120',\n",
        "        'nama' : 'Annisa Maulida N',\n",
        "        'nilai' : [100,90,77,110]\n",
        "    }\n",
        "]\n",
        "mahasiswa_baru = {\n",
        "    'nim' : '12/12414/PA/12312',\n",
        "    'nama' : 'Miftahhurahma Rosyda'\n",
        "}\n",
        "\n",
        "mahasiswa.append(mahasiswa_baru)\n",
        "mahasiswa[0]['nilai'].append(79)\n",
        "mahasiswa[2]['nilai'] = [80,100,95,25]\n",
        "\n",
        "#pp.pprint(mahasiswa)\n",
        "pp.pprint(mahasiswa[0]['nilai'][-1])"
      ]
    },
    {
      "cell_type": "code",
      "execution_count": 111,
      "metadata": {
        "colab": {
          "base_uri": "https://localhost:8080/",
          "height": 211
        },
        "id": "YhPmFiAlpY3x",
        "outputId": "3ae0262d-dfbb-410a-b445-f03fd39ba880"
      },
      "outputs": [
        {
          "output_type": "error",
          "ename": "FileNotFoundError",
          "evalue": "[Errno 2] No such file or directory: 'files/sinonim.txt'",
          "traceback": [
            "\u001b[0;31m---------------------------------------------------------------------------\u001b[0m",
            "\u001b[0;31mFileNotFoundError\u001b[0m                         Traceback (most recent call last)",
            "\u001b[0;32m<ipython-input-111-b58b8842b584>\u001b[0m in \u001b[0;36m<cell line: 0>\u001b[0;34m()\u001b[0m\n\u001b[0;32m----> 1\u001b[0;31m \u001b[0msinonim\u001b[0m \u001b[0;34m=\u001b[0m \u001b[0mopen\u001b[0m\u001b[0;34m(\u001b[0m\u001b[0;34m'files/sinonim.txt'\u001b[0m\u001b[0;34m,\u001b[0m\u001b[0;34m'r'\u001b[0m\u001b[0;34m)\u001b[0m\u001b[0;34m\u001b[0m\u001b[0;34m\u001b[0m\u001b[0m\n\u001b[0m\u001b[1;32m      2\u001b[0m \u001b[0mi\u001b[0m \u001b[0;34m=\u001b[0m \u001b[0;36m1\u001b[0m\u001b[0;34m\u001b[0m\u001b[0;34m\u001b[0m\u001b[0m\n\u001b[1;32m      3\u001b[0m \u001b[0;32mfor\u001b[0m \u001b[0ms\u001b[0m \u001b[0;32min\u001b[0m \u001b[0msinonim\u001b[0m\u001b[0;34m:\u001b[0m\u001b[0;34m\u001b[0m\u001b[0;34m\u001b[0m\u001b[0m\n\u001b[1;32m      4\u001b[0m \u001b[0;31m#     print(s)\u001b[0m\u001b[0;34m\u001b[0m\u001b[0;34m\u001b[0m\u001b[0m\n\u001b[1;32m      5\u001b[0m     \u001b[0mbaris\u001b[0m \u001b[0;34m=\u001b[0m \u001b[0ms\u001b[0m\u001b[0;34m.\u001b[0m\u001b[0msplit\u001b[0m\u001b[0;34m(\u001b[0m\u001b[0;34m':'\u001b[0m\u001b[0;34m)\u001b[0m\u001b[0;34m\u001b[0m\u001b[0;34m\u001b[0m\u001b[0m\n",
            "\u001b[0;31mFileNotFoundError\u001b[0m: [Errno 2] No such file or directory: 'files/sinonim.txt'"
          ]
        }
      ],
      "source": [
        "sinonim = open('files/sinonim.txt','r')\n",
        "i = 1\n",
        "for s in sinonim:\n",
        "#     print(s)\n",
        "    baris = s.split(':')\n",
        "    print(baris)\n",
        "    kata = baris[1].split(',')\n",
        "    print(baris[0],kata)"
      ]
    },
    {
      "cell_type": "markdown",
      "metadata": {
        "id": "PWWl0JSypY3x"
      },
      "source": [
        "sebuah_dict = {'Miftah':'Kurus'}\n",
        "sebuah_dict['Miftah'] += ',Cantik'\n",
        "print(sebuah_dict)"
      ]
    },
    {
      "cell_type": "code",
      "execution_count": null,
      "metadata": {
        "id": "Fp5aTeZcpY3y"
      },
      "outputs": [],
      "source": [
        "paragraf = \"\"\"\n",
        "Kisah ini bermula dari seorang dewa dan seorang dewi yang karena kesalahan yang dibuatnya di kayangan, akhirnya harus menjalani hukuman di dunia. Keduanya dihukum untuk berbuat kebaikan dalam hidupnya di bumi dalam bentuk seekor babi hutan dan seekor anjing. Babi hutan jelmaan dewi itu bernama Wayung Hyang, sedangkan anjing jelmaan dewa itu bernama Tumang. Wayung Hyang karena dihukum sebagai babi hutan atau celeng, maka ia berusaha melakukan berbagai kebaikan di dalam sebuah hutan. Sementara Tumang, sang anjing jelmaan dewa itu mengabdi sebagai anjing pemburu pada seorang raja yang bernama Sumbing Perbangkara.\n",
        "\"\"\"\n",
        "\n",
        "#sintaks ini\n",
        "kalimat = [k.strip().upper() for k in paragraf.split('.')] #memisahkan kalimat berdasarkan titik untuk menjadi list\n",
        "# print(kalimat)\n",
        "\n",
        "#sama dengan ini\n",
        "kalimat_baru = []\n",
        "for k in paragraf.split('.'):\n",
        "    kalimat_baru.append(k.strip())\n",
        "#     if k.endswith('dunia'):\n",
        "#         print(\"Ada Dunia pada kalimat\",k)\n",
        "\n",
        "    if k.find('dunia'):\n",
        "        print(\"Ada dunia pada kalimat\",k)\n",
        "\n",
        "\n",
        "#versi satu satu\n",
        "kalimat_a = paragraf.split('.') #memisahkan kalimat berdasarkan titik di paragraf\n",
        "kalimat_a[1] =  kalimat_a[1].strip() #menghilangkan spasi\n",
        "kalimat_a[2] =  kalimat_a[2].strip() #menghilangkan spasi\n",
        "\n",
        "\n"
      ]
    },
    {
      "cell_type": "code",
      "execution_count": null,
      "metadata": {
        "id": "fyBb6EPkpY3y"
      },
      "outputs": [],
      "source": [
        "k = \"abu salam \"\n",
        "print(k.capitalize())\n",
        "print(k.endswith(\"budi h\"))\n"
      ]
    }
  ],
  "metadata": {
    "kernelspec": {
      "display_name": "Python 3 (ipykernel)",
      "language": "python",
      "name": "python3"
    },
    "language_info": {
      "codemirror_mode": {
        "name": "ipython",
        "version": 3
      },
      "file_extension": ".py",
      "mimetype": "text/x-python",
      "name": "python",
      "nbconvert_exporter": "python",
      "pygments_lexer": "ipython3",
      "version": "3.9.5"
    },
    "colab": {
      "provenance": [],
      "include_colab_link": true
    }
  },
  "nbformat": 4,
  "nbformat_minor": 0
}
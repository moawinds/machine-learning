{
  "cells": [
    {
      "cell_type": "markdown",
      "metadata": {
        "id": "view-in-github",
        "colab_type": "text"
      },
      "source": [
        "<a href=\"https://colab.research.google.com/github/moawinds/machine-learning/blob/main/Machine_Learning-aw_/Python1_print_var_input.ipynb\" target=\"_parent\"><img src=\"https://colab.research.google.com/assets/colab-badge.svg\" alt=\"Open In Colab\"/></a>"
      ]
    },
    {
      "cell_type": "markdown",
      "metadata": {
        "id": "-NpQfpK3ML9b"
      },
      "source": [
        "# Python Basic-1\n",
        "- mengenal fungsi print();\n",
        "- tanda kurung buka;\n",
        "- tanda kutip;\n",
        "- kalimat 1 baris: Hello, World!;\n",
        "- fungsi beberapa tanda kutip lain;\n",
        "- tanda kurung tutup."
      ]
    },
    {
      "cell_type": "code",
      "execution_count": null,
      "metadata": {
        "id": "mTMnz3_sML9c",
        "colab": {
          "base_uri": "https://localhost:8080/"
        },
        "outputId": "d6f1222f-d45b-4125-accf-dbb8cf9e1f5b"
      },
      "outputs": [
        {
          "output_type": "stream",
          "name": "stdout",
          "text": [
            "Hello World!@#!#!$\n",
            "test\n"
          ]
        }
      ],
      "source": [
        "print(\"Hello World!@#!#!$\")\n",
        "print(\"test\")"
      ]
    },
    {
      "cell_type": "markdown",
      "metadata": {
        "id": "1w5VwhKBML9d"
      },
      "source": [
        "#### Latihan: The print() function\n",
        "\n",
        "- Cetak kalimat \"Hello, Python!\"\n",
        "- Cetak nama pertamamu\n",
        "- Cetak nama pertamamu tanpa petik\n",
        "- apakah ada bedanya double quote \"\" dan single quote '?"
      ]
    },
    {
      "cell_type": "code",
      "execution_count": null,
      "metadata": {
        "id": "qwwsMV15ML9d",
        "colab": {
          "base_uri": "https://localhost:8080/"
        },
        "outputId": "c45a277e-308d-495a-dc2e-c81c9d291644"
      },
      "outputs": [
        {
          "output_type": "stream",
          "name": "stdout",
          "text": [
            "Hello, Python!\n",
            "Abu\n",
            "Abu\n"
          ]
        }
      ],
      "source": [
        "print(\"Hello, Python!\")\n",
        "print(\"Abu\")\n",
        "print('Abu')"
      ]
    },
    {
      "cell_type": "markdown",
      "metadata": {
        "id": "sCcRZgKRML9d"
      },
      "source": [
        "## Formatting dengan Special Character\n",
        "`\\' = karakter spesial \"escaping nature\"\n",
        "\n",
        "`\\n` = untuk enter\n",
        "\n",
        "`\\` = escaping karakter\n",
        "\n",
        "```python\n",
        "print() = berarti line kosong\n",
        "```\n",
        "\n",
        "Tidak boleh ada 2 perintah dalam 1 baris\n",
        "```python\n",
        "print(\"nama depan\") print (\"nama belakang\")\n",
        "```"
      ]
    },
    {
      "cell_type": "code",
      "execution_count": null,
      "metadata": {
        "id": "SJYfeMqTML9d",
        "colab": {
          "base_uri": "https://localhost:8080/"
        },
        "outputId": "6e517e6b-ca31-4b01-d9e3-4b33bd226c0a"
      },
      "outputs": [
        {
          "output_type": "stream",
          "name": "stdout",
          "text": [
            "\n",
            "Saya sudah sarapan tadi pagi\n",
            " dan nanti siang makan lagi\n",
            "Saya sudah sarapan tadi pagi\t dan nanti siang makan lagi\n"
          ]
        }
      ],
      "source": [
        "print()\n",
        "\n",
        "print(\"Saya sudah sarapan tadi pagi\\n dan nanti siang makan lagi\")\n",
        "print(\"Saya sudah sarapan tadi pagi\\t dan nanti siang makan lagi\")"
      ]
    },
    {
      "cell_type": "code",
      "execution_count": null,
      "metadata": {
        "id": "GtKkPPK_ML9d",
        "colab": {
          "base_uri": "https://localhost:8080/"
        },
        "outputId": "f5cf3bb9-5bb4-456f-f8cb-98bd3f5c01f4"
      },
      "outputs": [
        {
          "output_type": "stream",
          "name": "stdout",
          "text": [
            "nama saya \"abu\"\n"
          ]
        }
      ],
      "source": [
        "print(\"nama saya \\\"abu\\\"\")"
      ]
    },
    {
      "cell_type": "code",
      "execution_count": null,
      "metadata": {
        "id": "y5iqh4IIML9d",
        "colab": {
          "base_uri": "https://localhost:8080/"
        },
        "outputId": "ca8ce5d3-f86a-4bc0-e963-fb71bc630738"
      },
      "outputs": [
        {
          "output_type": "stream",
          "name": "stdout",
          "text": [
            "\"\n"
          ]
        }
      ],
      "source": [
        "print(\"\\\"\")"
      ]
    },
    {
      "cell_type": "code",
      "execution_count": null,
      "metadata": {
        "id": "SkxvImvAML9e",
        "colab": {
          "base_uri": "https://localhost:8080/"
        },
        "outputId": "24fb59f8-8324-468a-911a-36570821b419"
      },
      "outputs": [
        {
          "output_type": "stream",
          "name": "stdout",
          "text": [
            "satu. dua. tiga.\n"
          ]
        }
      ],
      "source": [
        "print(\"satu.\",\"dua.\",\"tiga.\")"
      ]
    },
    {
      "cell_type": "code",
      "execution_count": null,
      "metadata": {
        "id": "I8BSbPdzML9e",
        "colab": {
          "base_uri": "https://localhost:8080/"
        },
        "outputId": "6bd6d650-106f-4fe6-82a2-a88486b57a3b"
      },
      "outputs": [
        {
          "output_type": "stream",
          "name": "stdout",
          "text": [
            "Nama saya Abu Salam\n"
          ]
        }
      ],
      "source": [
        "print(\"Nama saya\",\"Abu\", end=\" \")\n",
        "print(\"Salam\")"
      ]
    },
    {
      "cell_type": "code",
      "execution_count": null,
      "metadata": {
        "id": "1lzgsrulML9e",
        "colab": {
          "base_uri": "https://localhost:8080/"
        },
        "outputId": "11702595-b4e5-4ea3-e523-20fb7e3384e5"
      },
      "outputs": [
        {
          "output_type": "stream",
          "name": "stdout",
          "text": [
            "satu, dua, tiga\n"
          ]
        }
      ],
      "source": [
        "print(\"satu\",\"dua\",\"tiga\", sep=\", \")"
      ]
    },
    {
      "cell_type": "markdown",
      "metadata": {
        "id": "anC4MP4WML9e"
      },
      "source": [
        "## Latihan: The Print Function\n",
        "\n",
        "Buatlah Program untuk menghasilkan output:\n",
        "`Programming***Essentials***in...Python`"
      ]
    },
    {
      "cell_type": "code",
      "execution_count": null,
      "metadata": {
        "id": "ciOiF2jcML9e",
        "colab": {
          "base_uri": "https://localhost:8080/"
        },
        "outputId": "3bba4a5e-31a8-4f1e-dfd6-e9a9a330e092"
      },
      "outputs": [
        {
          "output_type": "stream",
          "name": "stdout",
          "text": [
            "Programming Essentials in\n",
            "Python\n"
          ]
        }
      ],
      "source": [
        "#Clue\n",
        "print(\"Programming\",\"Essentials\",\"in\")\n",
        "print(\"Python\")"
      ]
    },
    {
      "cell_type": "code",
      "execution_count": null,
      "metadata": {
        "id": "Ol_5kMmDML9e",
        "colab": {
          "base_uri": "https://localhost:8080/"
        },
        "outputId": "e9e37dbd-25f4-4d21-d7bc-4b0f94f72a4a"
      },
      "outputs": [
        {
          "output_type": "stream",
          "name": "stdout",
          "text": [
            "Programming***Essentials***in...PythonPython\n"
          ]
        }
      ],
      "source": [
        "#Programming***Essentials***in...PythonPython\n",
        "\n",
        "print(\"Programming\",\"Essentials\",\"in\", sep=\"***\", end=\"...\")\n",
        "print(\"Python\"*2)"
      ]
    },
    {
      "cell_type": "markdown",
      "metadata": {
        "id": "cdBFGENYML9e"
      },
      "source": [
        "## Latihan: Formatting the output\n",
        "Membuat duplikasi pola gambar bintang"
      ]
    },
    {
      "cell_type": "code",
      "execution_count": null,
      "metadata": {
        "id": "cSRd6rqrML9e",
        "colab": {
          "base_uri": "https://localhost:8080/"
        },
        "outputId": "d9d36ebc-3661-403e-bae9-436560bffb62"
      },
      "outputs": [
        {
          "output_type": "stream",
          "name": "stdout",
          "text": [
            "    *        *    \n",
            "   * *      * *   \n",
            "  *   *    *   *  \n",
            " *     *  *     * \n",
            "***   ******   ***\n",
            "  *   *    *   *  \n",
            "  *   *    *   *  \n",
            "  *****    *****  \n"
          ]
        }
      ],
      "source": [
        "#clue\n",
        "\n",
        "print(\"    *    \"*2)\n",
        "print(\"   * *   \"*2)\n",
        "print(\"  *   *  \"*2)\n",
        "print(\" *     * \"*2)\n",
        "print(\"***   ***\"*2)\n",
        "print(\"  *   *  \"*2)\n",
        "print(\"  *   *  \"*2)\n",
        "print(\"  *****  \"*2)"
      ]
    },
    {
      "cell_type": "code",
      "execution_count": null,
      "metadata": {
        "id": "FRbM3LuRML9e",
        "colab": {
          "base_uri": "https://localhost:8080/"
        },
        "outputId": "d7d32fb4-94e0-4da7-d8a1-c3651a4baaae"
      },
      "outputs": [
        {
          "output_type": "stream",
          "name": "stdout",
          "text": [
            "    *\n",
            "   * *\n",
            "  *   *\n",
            " *     *\n",
            "***   ***\n",
            "  *   *\n",
            "  *   *\n",
            "  *****\n",
            "    *\n",
            "   * *\n",
            "  *   *\n",
            " *     *\n",
            "***   ***\n",
            "  *   *\n",
            "  *   *\n",
            "  *****\n",
            "\n"
          ]
        }
      ],
      "source": [
        "print(\"    *\\n   * *\\n  *   *\\n *     *\\n***   ***\\n  *   *\\n  *   *\\n  *****\\n\"*2)"
      ]
    },
    {
      "cell_type": "markdown",
      "metadata": {
        "id": "pisGCCQ9ML9f"
      },
      "source": [
        "# Literal\n",
        "literal merupakan notasi untuk mensimbolkan nilai, dapat berupa string, boolean maupun angka (integer dan float)"
      ]
    },
    {
      "cell_type": "code",
      "execution_count": null,
      "metadata": {
        "id": "aIVhet7UML9f",
        "colab": {
          "base_uri": "https://localhost:8080/"
        },
        "outputId": "116f562c-f257-4635-fc58-f11937269284"
      },
      "outputs": [
        {
          "output_type": "stream",
          "name": "stdout",
          "text": [
            "22\n",
            "4\n",
            "<class 'str'>\n",
            "<class 'int'>\n"
          ]
        }
      ],
      "source": [
        "print(\"2\"*2)\n",
        "print(2*2)\n",
        "\n",
        "print(type(\"2\"))\n",
        "print(type(2))"
      ]
    },
    {
      "cell_type": "markdown",
      "metadata": {
        "id": "3GOL708sML9f"
      },
      "source": [
        "## Integers vs Floats"
      ]
    },
    {
      "cell_type": "code",
      "execution_count": null,
      "metadata": {
        "id": "pL9_myCxML9f",
        "colab": {
          "base_uri": "https://localhost:8080/"
        },
        "outputId": "898ec693-46a2-4d39-a938-659875697696"
      },
      "outputs": [
        {
          "output_type": "stream",
          "name": "stdout",
          "text": [
            "5 mempunyai tipe <class 'int'>\n",
            "0.5 mempunyai tipe <class 'float'>\n"
          ]
        }
      ],
      "source": [
        "print(5, \"mempunyai tipe\", type(5))\n",
        "print(.5, \"mempunyai tipe\", type(.5))"
      ]
    },
    {
      "cell_type": "markdown",
      "metadata": {
        "id": "8yYgh_RlML9f"
      },
      "source": [
        "\n",
        "# Penulisan Float dan Integer\n",
        "Python versi 3 membolehkan pemisahan digit integer dengan underscore \"_\"\n",
        "agar mudah dibaca\n",
        "```python\n",
        "print (10_000_000)```\n",
        "\n",
        "Float dipisahkan dengan .(titik) bukan ,(koma)\n",
        "cara penulisan float bisa 3 cara\n",
        "\n",
        "- 4.0\n",
        "- .4 (terbaca nol koma 4)\n",
        "- 4. (terbaca 4 koma nol)\n",
        "\n",
        "> 3e08 berarti $ 3 x 10 ^ 8 $  \n",
        "3e-08 berarti $ 3 x 10 ^ {-8} $\n"
      ]
    },
    {
      "cell_type": "markdown",
      "metadata": {
        "id": "neGmsqFFML9f"
      },
      "source": [
        "## String"
      ]
    },
    {
      "cell_type": "markdown",
      "metadata": {
        "id": "B7WTW_GeML9f"
      },
      "source": [
        "Buatlah program untuk menghasilkan output `I'm Monty Python`"
      ]
    },
    {
      "cell_type": "code",
      "execution_count": null,
      "metadata": {
        "id": "hklXflofML9f"
      },
      "outputs": [],
      "source": []
    },
    {
      "cell_type": "markdown",
      "metadata": {
        "id": "7lkcfB7FML9f"
      },
      "source": [
        "## Booelan\n",
        "Logika benar salah, 1 bernilai benar (True) dan 0 bernilai salah (False)"
      ]
    },
    {
      "cell_type": "code",
      "execution_count": null,
      "metadata": {
        "id": "PvVbfOajML9g",
        "colab": {
          "base_uri": "https://localhost:8080/"
        },
        "outputId": "b276163e-dc3f-43a4-d12b-34cfa7a57675"
      },
      "outputs": [
        {
          "output_type": "stream",
          "name": "stdout",
          "text": [
            "True\n",
            "False\n",
            "True\n",
            "False\n"
          ]
        }
      ],
      "source": [
        "print(True)\n",
        "print(False)\n",
        "\n",
        "print(4>2)\n",
        "print(3>4)"
      ]
    },
    {
      "cell_type": "markdown",
      "metadata": {
        "id": "HrHfTfAkML9g"
      },
      "source": [
        "## None"
      ]
    },
    {
      "cell_type": "code",
      "execution_count": null,
      "metadata": {
        "id": "hncHQPUuML9g",
        "colab": {
          "base_uri": "https://localhost:8080/"
        },
        "outputId": "cd114c81-e97a-4c93-c786-2b4a155c897a"
      },
      "outputs": [
        {
          "output_type": "stream",
          "name": "stdout",
          "text": [
            "\n"
          ]
        }
      ],
      "source": [
        "print()"
      ]
    },
    {
      "cell_type": "markdown",
      "metadata": {
        "id": "B_wyntjTML9g"
      },
      "source": [
        "## Latihan: Python literals - strings\n",
        "Buat output seperti ini dalam satu line <br/>\n",
        "`\"I'm\"`<br/>\n",
        "`\"\"learning\"\"`<br/>\n",
        "`\"\"\"Python\"\"\"`"
      ]
    },
    {
      "cell_type": "code",
      "execution_count": null,
      "metadata": {
        "id": "0kDLOQuwML9g",
        "colab": {
          "base_uri": "https://localhost:8080/"
        },
        "outputId": "4fa9d42e-f050-4b5b-a94d-d5240ee85694"
      },
      "outputs": [
        {
          "output_type": "stream",
          "name": "stdout",
          "text": [
            "\"I'm\"\n",
            "\"\"learning\"\"\n",
            "\"\"\"Python\"\"\"\n",
            "\n",
            "\"I'm\"\n",
            "\"\"learning\"\"\n",
            "\"\"\"Python\"\"\"\n",
            "\n"
          ]
        }
      ],
      "source": [
        "print('\"I\\'m\"\\n\"\"learning\"\"\\n\"\"\"Python\"\"\"')\n",
        "\n",
        "print(\"\"\"\n",
        "\"I'm\"\n",
        "\"\"learning\"\"\n",
        "\\\"\"\"Python\"\"\\\"\n",
        "\"\"\")"
      ]
    },
    {
      "cell_type": "markdown",
      "metadata": {
        "id": "Zblc4qwNML9g"
      },
      "source": [
        "# Operator"
      ]
    },
    {
      "cell_type": "markdown",
      "metadata": {
        "id": "EGdkDfvIML9g"
      },
      "source": [
        "### Operator Aritmetika\n",
        "\n",
        "| Operator | Arti                                                                                          | Contoh                  |\n",
        "|----------|--------------------------------------------------------------------------------------------------|--------------------------|\n",
        "| +        | Penambahan                                                                   | x + y                 |\n",
        "| -        | Pengurangan                                              | x - y                  |\n",
        "| *        | Perkalian                                                                            | x * y                    |\n",
        "| /        | Pembagian                                 | x / y                    |\n",
        "| %        | Modulo - Sisa Pembagian                                 | x % y (sisa pembagian of x/y) |\n",
        "| //       | Pembagian dan dibulatkan ke bawah | x // y                   |\n",
        "| **       | Eksponen - Pangkat                                             | x**y (x pangkat y)  |"
      ]
    },
    {
      "cell_type": "code",
      "execution_count": null,
      "metadata": {
        "id": "YwqKGEe7ML9g",
        "colab": {
          "base_uri": "https://localhost:8080/"
        },
        "outputId": "324ee581-99a2-4762-88db-ff07e815b758"
      },
      "outputs": [
        {
          "output_type": "stream",
          "name": "stdout",
          "text": [
            "8\n",
            "8.0\n",
            "8.0\n",
            "8.0\n"
          ]
        }
      ],
      "source": [
        "print(2 ** 3)\n",
        "print(2 ** 3.)\n",
        "print(2. ** 3.)\n",
        "print(2. ** 3)"
      ]
    },
    {
      "cell_type": "code",
      "execution_count": null,
      "metadata": {
        "id": "opcrMK8CML9g",
        "colab": {
          "base_uri": "https://localhost:8080/"
        },
        "outputId": "a7501d17-56a2-4d75-eb75-3082643fb3b5"
      },
      "outputs": [
        {
          "output_type": "stream",
          "name": "stdout",
          "text": [
            "3.3333333333333335\n",
            "3\n",
            "2.0\n",
            "2.0\n",
            "0\n",
            "4.0\n"
          ]
        }
      ],
      "source": [
        "print(10 / 3)\n",
        "print(10 // 3)\n",
        "\n",
        "print(6 / 3.)\n",
        "print(6 // 3.)\n",
        "\n",
        "print(-4 + 4)\n",
        "print(-4. + 8)"
      ]
    },
    {
      "cell_type": "markdown",
      "metadata": {
        "id": "kgdXmmR1ML9g"
      },
      "source": [
        "### Urutan Operator"
      ]
    },
    {
      "cell_type": "markdown",
      "metadata": {
        "id": "0yaVYNJhML9g"
      },
      "source": [
        "| Prioritas| Operator |        |\n",
        "|----------|----------|--------|\n",
        "| 1        | +, -     | unary  |\n",
        "| 2        | **       |        |\n",
        "| 3        | *,/,//,% |        |\n",
        "| 4        | +, -     | binary |"
      ]
    },
    {
      "cell_type": "code",
      "execution_count": null,
      "metadata": {
        "id": "XV9u6KIyML9g",
        "colab": {
          "base_uri": "https://localhost:8080/"
        },
        "outputId": "8973e9b4-dd6e-4311-a327-917bd3859a56"
      },
      "outputs": [
        {
          "output_type": "execute_result",
          "data": {
            "text/plain": [
              "17"
            ]
          },
          "metadata": {},
          "execution_count": 20
        }
      ],
      "source": [
        "2 + 3 *5"
      ]
    },
    {
      "cell_type": "code",
      "execution_count": null,
      "metadata": {
        "id": "MC6u2WCwML9g",
        "colab": {
          "base_uri": "https://localhost:8080/"
        },
        "outputId": "1903cf2d-0eb9-45e4-acbf-0078190913de"
      },
      "outputs": [
        {
          "output_type": "stream",
          "name": "stdout",
          "text": [
            "1\n",
            "3\n",
            "1\n",
            "256\n",
            "4\n",
            "256\n"
          ]
        }
      ],
      "source": [
        "print(9 % 6 % 2)\n",
        "print(9 % 6)\n",
        "print(3 % 2)\n",
        "\n",
        "print(2 ** 2 ** 3)\n",
        "print(2 ** 2)\n",
        "print(2 ** 8)"
      ]
    },
    {
      "cell_type": "code",
      "execution_count": null,
      "metadata": {
        "id": "yY8AyUM6ML9g",
        "colab": {
          "base_uri": "https://localhost:8080/"
        },
        "outputId": "f5d55d1d-dcbe-443e-87ca-c5dc1662f6f8"
      },
      "outputs": [
        {
          "output_type": "stream",
          "name": "stdout",
          "text": [
            "10.0\n"
          ]
        }
      ],
      "source": [
        "print((5 * ((25 % 13)+100) / (2 * 13)) // 2)"
      ]
    },
    {
      "cell_type": "markdown",
      "metadata": {
        "id": "ZCWxAHvxML9h"
      },
      "source": [
        "# Variabel\n",
        "- Apa itu variabel?\n",
        "- Bagaimana Aturan Penamaannya?"
      ]
    },
    {
      "cell_type": "code",
      "execution_count": null,
      "metadata": {
        "id": "jgy-a6RgML9h",
        "colab": {
          "base_uri": "https://localhost:8080/"
        },
        "outputId": "db1a7e31-fe9d-468a-cae7-c3ff41ec3396"
      },
      "outputs": [
        {
          "output_type": "stream",
          "name": "stdout",
          "text": [
            "1\n"
          ]
        }
      ],
      "source": [
        "var = 1\n",
        "print(var)"
      ]
    },
    {
      "cell_type": "markdown",
      "metadata": {
        "id": "FCzJaisrML9h"
      },
      "source": [
        "Tulis rumus ini dalam kode program:<br/> $c=\\sqrt{a^2+b^2}$"
      ]
    },
    {
      "cell_type": "code",
      "execution_count": null,
      "metadata": {
        "id": "fMq1GmWrML9h",
        "colab": {
          "base_uri": "https://localhost:8080/"
        },
        "outputId": "805eb135-86c2-4838-8fca-41979040f05e"
      },
      "outputs": [
        {
          "output_type": "stream",
          "name": "stdout",
          "text": [
            "c =  3.605551275463989\n"
          ]
        }
      ],
      "source": [
        "a=2.\n",
        "b=3.\n",
        "c=(a**2 + b**2) ** 0.5\n",
        "print(\"c = \", c)"
      ]
    },
    {
      "cell_type": "markdown",
      "metadata": {
        "id": "bVnZeomoML9h"
      },
      "source": [
        "## Latihan: Variables\n",
        "\n",
        "<b>Cerita Pendek:</b>\n",
        "\n",
        "Suatu waktu di kebun apel, Darjo memiliki 3 apel, Darno memiliki 5 apel dan Waginem memiliki 6 Apel. mereka sangat bahagia dan hidup lama. selesai.\n",
        "\n",
        "Tugas Anda\n",
        "- buat variabe : `Darjo`, `Darno` dan `Waginem`\n",
        "- isi nilai sesuai dengan jumlah apel yang mereka miliki\n",
        "- cetak nama variabel dan jumlah apel setiap variabel dalam 1 baris, pisahkan dengan koma\n",
        "- buat variabel baru dengan nama `totalApel` yang berisi penjumlahan seluruh apel yang mereka miliki\n",
        "- coba otak atik code dengan membuat variable baru, diisi dengan nilai lain, dan dihitung dengan operator aritmetik lainnya"
      ]
    },
    {
      "cell_type": "code",
      "execution_count": null,
      "metadata": {
        "id": "p-Vfl_ssML9h"
      },
      "outputs": [],
      "source": [
        "Darjo = 2\n",
        "Darno = 5\n",
        "Waginem = 6"
      ]
    },
    {
      "cell_type": "markdown",
      "metadata": {
        "id": "zfejxXFiML9h"
      },
      "source": [
        "## Latihan: Variables: a simple converter\n",
        "\n",
        "Mil dan kilometer adalah satuan panjang\n",
        "\n",
        "1 mil memiliki panjang sekitar 1.61 kilometer, buatlah program konversi di bawah ini\n",
        "- mil ke kilometer;\n",
        "- kilometer to mil.\n",
        "jangan ganti apapun terhadap kode yang sudah ada. tulis kodemu pada tanda ###, kemudian hapus tanda tersebut. Uji kode Anda dengan data yang kami sajikan dalam source code"
      ]
    },
    {
      "cell_type": "markdown",
      "metadata": {
        "id": "SAeaqfypML9h"
      },
      "source": [
        "Kode:\n",
        "```python\n",
        "kilometer = 12.25\n",
        "mil = 7.38\n",
        "\n",
        "mil_ke_kilometer = ###\n",
        "kilometer_ke_mil = ###\n",
        "\n",
        "print(mil, \"1 mil adalah\", round(miles_to_kilometers, 2), \"kilometer\")\n",
        "print(kilometer, \"1 kilometer adalah\", round(kilometers_to_miles, 2), \"mil\")\n",
        "```"
      ]
    },
    {
      "cell_type": "code",
      "execution_count": null,
      "metadata": {
        "id": "GbkOkZEzML9h",
        "colab": {
          "base_uri": "https://localhost:8080/"
        },
        "outputId": "18bed81a-63a8-47b4-cf82-d55a854fd497"
      },
      "outputs": [
        {
          "output_type": "stream",
          "name": "stdout",
          "text": [
            "7.38 1 mil adalah 11.88 kilometer\n",
            "12.25 1 kilometer adalah 7.61 mil\n"
          ]
        }
      ],
      "source": [
        "kilometer = 12.25\n",
        "mil = 7.38\n",
        "\n",
        "miles_to_kilometers = mil * 1.61\n",
        "kilometers_to_miles = kilometer / 1.61\n",
        "\n",
        "print(mil, \"1 mil adalah\", round(miles_to_kilometers, 2), \"kilometer\")\n",
        "print(kilometer, \"1 kilometer adalah\", round(kilometers_to_miles, 2), \"mil\")"
      ]
    },
    {
      "cell_type": "markdown",
      "metadata": {
        "id": "UhKOlirdML9h"
      },
      "source": [
        "## Latihan: Operators and expressions\n",
        "\n",
        "Skenario\n",
        "lihatlah kode dalam editor, nilai tersebut termasuk tipe float, letakkan nilai tersebut dalam variabel x, dan print variabel tersebut dalam variabel y. Tugasmu adalah melengkapi kode di bawah ini untk menyelesaikan persamaan di bawah\n",
        "\n",
        "$3x^3 - 2x^2 + 3x - 1$\n",
        "\n",
        "Hasil harus disimpan dalam variabel y.\n",
        "ingat bahwa aljabar klasik sering menghilangkan operator perkalian, kamu harus menggunakannya secara eksplisit. Ingat bagaimana cara mengubah tipe data untuk memastikan bahwa x bertipe float.\n",
        "\n",
        "usahakan kodemu mudah dibaca, uji kode dengan data yang telah kami berikan.\n",
        "\n",
        "```python\n",
        "x =  # hardcode your test data here\n",
        "x = float(x)\n",
        "# tulis kodemu disini\n",
        "print(\"y =\", y)\n",
        "```\n",
        "\n",
        "Test Data:\n",
        "```python\n",
        "#input\n",
        "x = 0\n",
        "x = 1\n",
        "x = -1\n",
        "\n",
        "#output\n",
        "y = -1.0\n",
        "y = 3.0\n",
        "y = -9.0\n",
        "```"
      ]
    },
    {
      "cell_type": "code",
      "execution_count": null,
      "metadata": {
        "id": "eNAAEg60ML9h",
        "colab": {
          "base_uri": "https://localhost:8080/"
        },
        "outputId": "8979944b-7ca7-4841-8bc9-e7fb9a2d3089"
      },
      "outputs": [
        {
          "output_type": "stream",
          "name": "stdout",
          "text": [
            "3\n"
          ]
        }
      ],
      "source": [
        "var = 2\n",
        "var = 3\n",
        "print(var)"
      ]
    },
    {
      "cell_type": "markdown",
      "metadata": {
        "id": "B-mBJtzwML9h"
      },
      "source": [
        "### Exercise\n",
        "\n",
        "Apa outputnya?\n",
        "```python\n",
        "var = 2\n",
        "var = 3\n",
        "print(var)\n",
        "```\n",
        "\n",
        "Nama variabel mana yang ilegal?\n",
        "```python\n",
        "my_var\n",
        "m\n",
        "101\n",
        "averylongvariablename\n",
        "m101\n",
        "m 101\n",
        "Del\n",
        "del\n",
        "```\n",
        "\n",
        "Apa Outputnya?\n",
        "```python\n",
        "a = '1'\n",
        "b = \"1\"\n",
        "print(a + b)\n",
        "```\n",
        "\n",
        "Apa outputnya?\n",
        "\n",
        "```python\n",
        "a = 6\n",
        "b = 3\n",
        "a /= 2 * b\n",
        "print(a)\n",
        "```"
      ]
    },
    {
      "cell_type": "markdown",
      "metadata": {
        "id": "OysF--JPML9h"
      },
      "source": [
        "# Comments\n",
        "Latihan: mana yang seharusnya menjadi komentar, mana yang tidak"
      ]
    },
    {
      "cell_type": "code",
      "execution_count": null,
      "metadata": {
        "id": "3wRbyZcRML9h",
        "colab": {
          "base_uri": "https://localhost:8080/"
        },
        "outputId": "bec5c4f2-cadf-4917-fdf9-83f424d80d01"
      },
      "outputs": [
        {
          "output_type": "stream",
          "name": "stdout",
          "text": [
            "Hai...\n"
          ]
        }
      ],
      "source": [
        "#test\n",
        "print(\"Hai...\")\n",
        "#test1\n",
        "#test2"
      ]
    },
    {
      "cell_type": "markdown",
      "metadata": {
        "id": "HQYVUHfsML9h"
      },
      "source": [
        "# How to talk to a computer\n",
        "katakunci `input()`<br/>\n",
        "hasil dari fungsi `input()` adalah <b>string</b>.<br/>\n",
        "Tidak bisa langsung dikenakan ke operasi aritmetika"
      ]
    },
    {
      "cell_type": "code",
      "execution_count": null,
      "metadata": {
        "id": "avJz1Ud8ML9h",
        "colab": {
          "base_uri": "https://localhost:8080/"
        },
        "outputId": "5201b1f5-9531-4fdb-c86e-c3efeb282060"
      },
      "outputs": [
        {
          "output_type": "stream",
          "name": "stdout",
          "text": [
            "Katakan sesuatu...\n",
            "halo sayang\n",
            "mmmmm halo sayang  Oke\n"
          ]
        }
      ],
      "source": [
        "print(\"Katakan sesuatu...\")\n",
        "sesuatu = input()\n",
        "print(\"mmmmm\", sesuatu, \" Oke\")"
      ]
    },
    {
      "cell_type": "markdown",
      "metadata": {
        "id": "jRwO-QoKML9i"
      },
      "source": [
        "### type casting"
      ]
    },
    {
      "cell_type": "code",
      "execution_count": null,
      "metadata": {
        "id": "UrdXUTO8ML9i",
        "colab": {
          "base_uri": "https://localhost:8080/"
        },
        "outputId": "6bd93a93-8f2c-435f-d167-5a55486d4cc2"
      },
      "outputs": [
        {
          "output_type": "stream",
          "name": "stdout",
          "text": [
            "Masukan Angka : 4\n",
            "Pangkat duanya adalah  16.0\n"
          ]
        }
      ],
      "source": [
        "angka = float(input(\"Masukan Angka : \"))\n",
        "print(\"Pangkat duanya adalah \", angka**2)"
      ]
    },
    {
      "cell_type": "markdown",
      "metadata": {
        "id": "RnziJIzdML9i"
      },
      "source": [
        "#### Replication\n",
        "coba membuat cetak bangun datar persegi dengan replication\n",
        "\n",
        "![image.png](attachment:image.png)"
      ]
    },
    {
      "cell_type": "code",
      "execution_count": null,
      "metadata": {
        "id": "k7Ft5YKiML9i",
        "colab": {
          "base_uri": "https://localhost:8080/"
        },
        "outputId": "5c9ea46c-4af1-466d-8f85-2a941e68994b"
      },
      "outputs": [
        {
          "output_type": "stream",
          "name": "stdout",
          "text": [
            "+----------+\n",
            "|          |\n",
            "|          |\n",
            "|          |\n",
            "|          |\n",
            "|          |\n",
            "+----------+\n"
          ]
        }
      ],
      "source": [
        "print(\"+\" + 10*\"-\" + \"+\")\n",
        "print((\"|\" + 10*\" \" + \"|\\n\") * 5, end=\"\")\n",
        "print(\"+\" + 10*\"-\" + \"+\")"
      ]
    },
    {
      "cell_type": "markdown",
      "metadata": {
        "id": "leEXfdH6ML9i"
      },
      "source": [
        "## Latihan : Simple input and output\n",
        "Coba utak atik perintah kode dibawah ini\n",
        "``` python\n",
        "# Masukkan nilai a dalam float\n",
        "# Masukkan nilai b dalam float\n",
        "\n",
        "# hitung hasil penambahan disini\n",
        "# hitung hasil pengurangan disini\n",
        "# hitung hasil perkalian disini\n",
        "# hitung hasil pembagian disini\n",
        "\n",
        "\n",
        "print(\"\\nYeahhhh\")\n",
        "```"
      ]
    },
    {
      "cell_type": "markdown",
      "metadata": {
        "id": "0krHPpphML9i"
      },
      "source": [
        "## Latihan: Operators and expressions\n",
        "Kerjakan rumus berikut:\n",
        "<img src=\"images/modul2_pembagian.PNG\" width=200px />\n",
        "\n",
        "input/output yang diharapkan\n",
        "```python\n",
        "x = 1\n",
        "y = 0.6000000000000001\n",
        "\n",
        "x = 10\n",
        "y = 0.09901951266867294\n",
        "```"
      ]
    },
    {
      "cell_type": "code",
      "execution_count": null,
      "metadata": {
        "id": "x1IwMW9LML9i",
        "colab": {
          "base_uri": "https://localhost:8080/"
        },
        "outputId": "b886fd01-f865-4fa7-b723-d31c507db21c"
      },
      "outputs": [
        {
          "output_type": "stream",
          "name": "stdout",
          "text": [
            "\"I'm\"\n",
            " \"\"learning\"\"\n",
            " \"\"\"Python\"\"\"\n",
            "\n"
          ]
        }
      ],
      "source": [
        "print(\"\\\"I'm\\\"\\n \\\"\\\"learning\\\"\\\"\\n \\\"\\\"\\\"Python\\\"\\\"\\\"\\n\")"
      ]
    }
  ],
  "metadata": {
    "kernelspec": {
      "display_name": "Python 3 (ipykernel)",
      "language": "python",
      "name": "python3"
    },
    "language_info": {
      "codemirror_mode": {
        "name": "ipython",
        "version": 3
      },
      "file_extension": ".py",
      "mimetype": "text/x-python",
      "name": "python",
      "nbconvert_exporter": "python",
      "pygments_lexer": "ipython3",
      "version": "3.9.5"
    },
    "colab": {
      "provenance": [],
      "include_colab_link": true
    }
  },
  "nbformat": 4,
  "nbformat_minor": 0
}
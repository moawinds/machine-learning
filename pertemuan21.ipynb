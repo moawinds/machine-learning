{
  "nbformat": 4,
  "nbformat_minor": 0,
  "metadata": {
    "colab": {
      "provenance": [],
      "authorship_tag": "ABX9TyOjlX/MxBlP1ot8ScelTivM",
      "include_colab_link": true
    },
    "kernelspec": {
      "name": "python3",
      "display_name": "Python 3"
    },
    "language_info": {
      "name": "python"
    }
  },
  "cells": [
    {
      "cell_type": "markdown",
      "metadata": {
        "id": "view-in-github",
        "colab_type": "text"
      },
      "source": [
        "<a href=\"https://colab.research.google.com/github/moawinds/machine-learning/blob/main/pertemuan21.ipynb\" target=\"_parent\"><img src=\"https://colab.research.google.com/assets/colab-badge.svg\" alt=\"Open In Colab\"/></a>"
      ]
    },
    {
      "cell_type": "code",
      "source": [
        "print(\"Saya adalah program yang bisa membantu Anda dalam menyelesaikan operasi matematika sederhana, Apa operasi matematika yang ingin Anda lakukan?\")\n",
        "#Jawab penjumlahan, pengurangan, perkalian, pembagian\n",
        "answer = input().strip().lower()\n",
        "\n",
        "def hitung(operasi):\n",
        "    angka1 = float(input(\"Masukkan angka pertama: \"))\n",
        "    angka2 = float(input(\"Masukkan angka kedua: \"))\n",
        "    if operasi == \"penjumlahan\":\n",
        "        hasil = angka1 + angka2\n",
        "    elif operasi == \"pengurangan\":\n",
        "        hasil = angka1 - angka2\n",
        "    elif operasi == \"perkalian\":\n",
        "        hasil = angka1 * angka2\n",
        "    elif operasi == \"pembagian\":\n",
        "        if angka2 == 0:\n",
        "            print(\"Error: Pembagian dengan nol tidak diperbolehkan.\")\n",
        "            return\n",
        "        hasil = angka1 / angka2\n",
        "    else:\n",
        "        print(\"Maaf, saya tidak mengenali operasi tersebut.\")\n",
        "        return\n",
        "    print(\"Hasil\", operasi, \"adalah:\", hasil)\n",
        "\n",
        "if answer in [\"penjumlahan\", \"pengurangan\", \"perkalian\", \"pembagian\"]:\n",
        "    hitung(answer)\n",
        "else:\n",
        "    print(\"Maaf, saya hanya bisa membantu dengan penjumlahan, pengurangan, perkalian, atau pembagian.\")"
      ],
      "metadata": {
        "colab": {
          "base_uri": "https://localhost:8080/"
        },
        "id": "RAxyXU9EQzCF",
        "outputId": "4394798b-6176-4b7a-812b-804e0ab90688"
      },
      "execution_count": 4,
      "outputs": [
        {
          "output_type": "stream",
          "name": "stdout",
          "text": [
            "Saya adalah program yang bisa membantu Anda dalam menyelesaikan operasi matematika sederhana, Apa operasi matematika yang ingin Anda lakukan?\n",
            "4 * 4\n",
            "Maaf, saya hanya bisa membantu dengan penjumlahan, pengurangan, perkalian, atau pembagian.\n"
          ]
        }
      ]
    }
  ]
}